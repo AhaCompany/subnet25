{
 "cells": [
  {
   "cell_type": "markdown",
   "metadata": {},
   "source": [
    "# Introduction\n",
    "\n",
    "**This demo shows to run a distributed simulation of protein folding using GROMACS within a bittensor subnet**\n",
    "\n",
    "In this subnet:\n",
    "- Validators select a protein (pbd_id), download the structure and preprare input files\n",
    "- Miners run the simulation and send back their results\n",
    "- Scoring is based on free energy of the folded structure"
   ]
  },
  {
   "cell_type": "code",
   "execution_count": null,
   "metadata": {},
   "outputs": [],
   "source": [
    "import sys\n",
    "import bittensor as bt\n",
    "\n",
    "from typing import Tuple\n",
    "from folding.protocol import FoldingSynapse\n",
    "from folding.miners.forward import forward\n",
    "from folding.validators.protein import Protein\n",
    "\n",
    "bt.trace()\n",
    "\n",
    "def memory(files: dict):\n",
    "    total = 0\n",
    "    for k, v in files.items():\n",
    "        size_kb = sys.getsizeof(v)/1024\n",
    "        total += size_kb\n",
    "        print(f'file {k!r}: {size_kb:.2f} KB')\n",
    "    print('------')\n",
    "    print(f'Total: {total:.2f} KB')"
   ]
  },
  {
   "cell_type": "markdown",
   "metadata": {},
   "source": [
    "### Protein class is contains the protein sequence and the current state of the protein folding simulation."
   ]
  },
  {
   "cell_type": "code",
   "execution_count": null,
   "metadata": {},
   "outputs": [],
   "source": [
    "protein = Protein(max_steps=50)\n",
    "protein"
   ]
  },
  {
   "cell_type": "markdown",
   "metadata": {},
   "source": [
    "### validator is currently responsible for preparing the protein for the simulation."
   ]
  },
  {
   "cell_type": "code",
   "execution_count": null,
   "metadata": {},
   "outputs": [],
   "source": [
    "protein.md_inputs"
   ]
  },
  {
   "cell_type": "code",
   "execution_count": null,
   "metadata": {},
   "outputs": [],
   "source": [
    "memory(protein.md_inputs)\n"
   ]
  },
  {
   "cell_type": "markdown",
   "metadata": {},
   "source": [
    "# Simulation using only Synapse"
   ]
  },
  {
   "cell_type": "code",
   "execution_count": null,
   "metadata": {},
   "outputs": [],
   "source": [
    "synapse = FoldingSynapse(pdb_id=protein.pdb_id, md_inputs=protein.md_inputs)#, mdrun_args='-maxh 0.01')\n",
    "synapse"
   ]
  },
  {
   "cell_type": "markdown",
   "metadata": {},
   "source": [
    "### Simulate the miner receiving the synapse and performing the md simulation."
   ]
  },
  {
   "cell_type": "code",
   "execution_count": null,
   "metadata": {},
   "outputs": [],
   "source": [
    "forward(synapse)"
   ]
  },
  {
   "cell_type": "markdown",
   "metadata": {},
   "source": [
    "### Simulation results are attached to synapse"
   ]
  },
  {
   "cell_type": "code",
   "execution_count": null,
   "metadata": {},
   "outputs": [],
   "source": [
    "synapse.deserialize()"
   ]
  },
  {
   "cell_type": "code",
   "execution_count": null,
   "metadata": {},
   "outputs": [],
   "source": [
    "memory(synapse.md_output)"
   ]
  },
  {
   "cell_type": "markdown",
   "metadata": {},
   "source": [
    "### Perform reward calculation for miner"
   ]
  },
  {
   "cell_type": "code",
   "execution_count": null,
   "metadata": {},
   "outputs": [],
   "source": [
    "protein.gro_path"
   ]
  },
  {
   "cell_type": "code",
   "execution_count": null,
   "metadata": {},
   "outputs": [],
   "source": [
    "protein.gro_hash(protein.gro_path)"
   ]
  },
  {
   "cell_type": "code",
   "execution_count": null,
   "metadata": {},
   "outputs": [],
   "source": [
    "protein.gro_hash('/Users/steffencruz/Desktop/py/opentensor/folding/data/1UBQ/dendrite/test/md_0_1.gro')\n"
   ]
  },
  {
   "cell_type": "code",
   "execution_count": null,
   "metadata": {},
   "outputs": [],
   "source": [
    "import re\n",
    "example = '    1MET      N    1   4.502'\n",
    "pattern = re.compile(r'\\s*(\\d+\\w+)\\s+(\\w+\\d*\\s*\\d+)\\s+(\\-?\\d+\\.\\d+)+')\n",
    "def gro_content(gro_path, begin=0, end=-1):\n",
    "    bt.logging.info(f'Calculating hash for path {gro_path!r}')\n",
    "    with open(gro_path, 'rb') as f:\n",
    "        name, length, *lines, _ = f.readlines()\n",
    "        name = name.decode().strip()\n",
    "        length = int(length)\n",
    "        bt.logging.info(f'{name=}, {length=}, {len(lines)=}')\n",
    "    buf = ''\n",
    "    for i, line in enumerate(lines[begin:end]):\n",
    "        line = line.decode().strip()\n",
    "        match = pattern.match(line)\n",
    "        if not match:\n",
    "            raise Exception(f'Error parsing line {i+1} in {gro_path!r}: {line!r}')\n",
    "        buf += match.group(1)+match.group(2).replace(' ', '')\n",
    "    return name+buf\n",
    "\n",
    "end = 500000\n",
    "ref = gro_content(protein.gro_path, begin=0, end=end)\n",
    "pred = gro_content('/Users/steffencruz/Desktop/py/opentensor/folding/data/1UBQ/dendrite/test/md_0_1.gro', begin=0, end=end)\n",
    "bt.logging.success(ref)\n",
    "bt.logging.success(pred)\n",
    "bt.logging.success(ref==pred)"
   ]
  },
  {
   "cell_type": "code",
   "execution_count": null,
   "metadata": {},
   "outputs": [],
   "source": [
    "pattern.match('312SOL    HW1 1938  -0.044   0.387  -0.016\\n')"
   ]
  },
  {
   "cell_type": "code",
   "execution_count": null,
   "metadata": {},
   "outputs": [],
   "source": [
    "reward = protein.reward(synapse.md_output, hotkey='test')\n",
    "\n",
    "reward"
   ]
  },
  {
   "cell_type": "markdown",
   "metadata": {},
   "source": [
    "# Outlook\n",
    "We have demonstrated that a molecular dynamics simulation can be carried out in the context of a subnet.\n",
    "\n",
    "- We only have a single pdb_id right (1UBQ) now, but we can easily extend this to a list of pdb_ids. Lets establish a way to access all pdbs that are eligible for simulation. NOTE: we have the means to download the files from a database, given the pdb id, we just need a list of eligible pdb ids. This can be a static list which we have in a file, or we get it from a database too.\n",
    "- Use Gromacs python API, if it makes sense to do so (https://gromacs-py.readthedocs.io/en/latest/notebook/00_basic_example.html, https://github.com/Becksteinlab/GromacsWrapper). Making sense mens that we either have much cleaner code, or we can do something that we cannot do with the command line tool.\n",
    "- We need to actually fold some proteins and understand the expected results. Is this code stable? Does it produce the expected results? We need to understand the expected results and how to interpret them.\n",
    "\n",
    "# Validation Flow\n",
    "We need to understand how large this problem space is so that we do not exhaust all of the proteins too quickly and effectively kill the PoW component.\n",
    "Key points are:\n",
    "1. How many proteins are eligible for simulation?\n",
    "2. Is there a principled way to modify initial conditions to create new protchallallengeschengesein?\n",
    "\n",
    "# Reward Mechanism\n",
    "We need to benchmark the reward mechanism in many ways before we can deploy this on mainnet. We need to understand the expected results in terms of miner rewards, competitiveness, dependency on hardware, etc. Main points are:\n",
    "1. How long does it take to fold a protein? How many simulations can a miner do in a day?\n",
    "2. How much does it cost to fold a protein? How much does it cost to run a simulation?\n",
    "3. How busy will validators be? How many simulations can a validator do in a day?\n",
    "4. What is the expected reward for a miner? How does this depend on the hardware?\n",
    "5. How does the reward depend on the protein? How does the reward depend on the simulation parameters?\n",
    " and also understand the expected results in terms of miner rewards, competitiveness, dependency on hardware, etc.\n",
    "\n",
    "\n",
    "\n",
    "## Remaining Steps\n",
    "- Run on testnet [DONE]\n",
    "- Run on mainnet\n",
    "\n",
    "\n",
    "## Opportunities for Improvements\n",
    "- Improved customization of input files (e.g. force field, box, mdp templates)\n",
    "- Performance optimization (file usage, simulation length, parallelization)\n",
    "- Allow for different miners (e.g. AI models versus GPU models versus CPU models)\n",
    "- Perturbation of the structure (e.g. mutation) to prevent lookup attacks\n",
    "- More complex scoring function (e.g. based on RMSD)\n",
    "- More complex simulation (e.g. folding of a protein with multiple chains)\n",
    "\n"
   ]
  },
  {
   "cell_type": "markdown",
   "metadata": {},
   "source": []
  }
 ],
 "metadata": {
  "kernelspec": {
   "display_name": "rev2",
   "language": "python",
   "name": "python3"
  },
  "language_info": {
   "codemirror_mode": {
    "name": "ipython",
    "version": 3
   },
   "file_extension": ".py",
   "mimetype": "text/x-python",
   "name": "python",
   "nbconvert_exporter": "python",
   "pygments_lexer": "ipython3",
   "version": "3.9.5"
  },
  "orig_nbformat": 4
 },
 "nbformat": 4,
 "nbformat_minor": 2
}

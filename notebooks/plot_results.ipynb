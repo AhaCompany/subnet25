{
 "cells": [
  {
   "cell_type": "markdown",
   "metadata": {},
   "source": [
    "### How to quantify the best performing simulation:\n",
    "\n",
    "- If you are interested in stability, look for simulations with minimal fluctuations in **temperature**, **pressure**, and **total energy**, combined with a **potential energy** indicative of a stable, equilibrated system.\n",
    "\n",
    "- For simulations aimed at eploring thermodynamic properties, metrics like **enthalpy** and **density** at equilibrium can be valuable. "
   ]
  },
  {
   "cell_type": "markdown",
   "metadata": {},
   "source": [
    "Terms to analyze in the energy file. `.edr`\n",
    "\n",
    "- **Potential Energy:** Gives an insight into the stability of the system. Lower and more stable potential energy often indicates a well-equilibriated system. \n",
    "- **Total Energy:** (The sum of potential and kinetic energies) Should remain constant or relatively stable. Provides a check for energy conservation and overall simulation stability. \n",
    "- **Density:** Can indicate whether the system has reached an equilibrium state at the expected density for the given temperature. \n",
    "\n",
    "Other Terms \n",
    "- **RMSD:** Common metric for assessing structural stability. \n"
   ]
  },
  {
   "cell_type": "markdown",
   "metadata": {},
   "source": [
    "## Potential Energy"
   ]
  },
  {
   "cell_type": "code",
   "execution_count": null,
   "metadata": {},
   "outputs": [],
   "source": [
    "# iterate over hotkey folders and extract potential energy\n",
    "import os \n",
    "import subprocess \n",
    "\n",
    "miner_paths = ['data/5oxe/max_steps_5000/miners']\n",
    "for loc in miner_paths:\n",
    "    hotkeys = os.listdir(loc)\n",
    "    for key in hotkeys:\n",
    "        hotkey_path = os.path.join(loc, key)\n",
    "        # Use subprocess to call gmx energy\n",
    "        edr_file = os.path.join(hotkey_path, 'md_0_1.edr')\n",
    "        output_file = os.path.join(hotkey_path, 'potential.xvg')\n",
    "        command = f\"echo Potential | gmx energy -f {edr_file} -o {output_file}\"\n",
    "        try:\n",
    "            subprocess.run(command, shell=True, check=True, text=True)\n",
    "        except subprocess.CalledProcessError as e:\n",
    "            print(f\"Error running command '{command}': {e}\")\n"
   ]
  },
  {
   "cell_type": "code",
   "execution_count": null,
   "metadata": {},
   "outputs": [],
   "source": [
    "import pandas as pd\n",
    "import plotly.express as px\n",
    "import plotly.io as pio\n",
    "import os\n",
    " \n",
    "def find_and_plot(energy_term: str, miner_paths: str):\n",
    "    # create a list of paths: paths\n",
    "    miner_paths = [f'{miner_paths}']\n",
    "    paths = []\n",
    "    for loc in miner_paths: # for each path in the list \n",
    "        hotkeys = ! ls {loc} # list the names of all the folders \n",
    "        for key in hotkeys: # for each folder \n",
    "            hotkey_path = os.path.join(loc, key)\n",
    "            paths.append(hotkey_path)\n",
    "\n",
    "    # create a list of paths to the {energy_term}.xvg files: file_paths_list\n",
    "    file_paths_list=[]\n",
    "    for file in paths: \n",
    "        file_paths_list.append(file + f'/{energy_term}.xvg')\n",
    "    file_paths_list\n",
    "\n",
    "    # create dfs for each {energy_term}.xvg file\n",
    "    data_frames = []\n",
    "    for path in file_paths_list:\n",
    "        df = pd.read_csv(path, skiprows=24, delim_whitespace=True, names=[\"time\", f\"{energy_term}\"])\n",
    "        df['hotkey'] = path[30:35]\n",
    "        data_frames.append(df)\n",
    "    dfs = pd.concat(data_frames)\n",
    "\n",
    "    # plot {energy_term} vs time \n",
    "    fig = px.line(dfs, x='time', y= f'{energy_term}', color='hotkey')\n",
    "    fig.update_layout(title='{energy_term} vs Time')\n",
    "    fig.write_image(f\"{miner_paths}/{energy_term}.png\")\n",
    "    return fig.show()\n",
    "\n",
    "# example \n",
    "    \n",
    "find_and_plot(energy_term = 'potential', miner_paths = '/root/sergio/folding/data/5oxe/max_steps_5000/miners')"
   ]
  },
  {
   "cell_type": "code",
   "execution_count": null,
   "metadata": {},
   "outputs": [],
   "source": []
  },
  {
   "cell_type": "code",
   "execution_count": null,
   "metadata": {},
   "outputs": [],
   "source": [
    "# plot potential energy vs time \n",
    "import plotly.express as px\n",
    "import plotly.io as pio\n",
    "\n",
    "fig = px.line(dfs, x='time', y='potential_energy', color='hotkey')\n",
    "fig.update_layout(title='Potential Energy vs Time for Protein 5oxe')\n",
    "fig.show()\n",
    "fig.write_image(\"data/5oxe/max_steps_50/miners/potential_energy.png\")"
   ]
  },
  {
   "cell_type": "markdown",
   "metadata": {},
   "source": [
    "## Total Energy \n"
   ]
  },
  {
   "cell_type": "code",
   "execution_count": null,
   "metadata": {},
   "outputs": [],
   "source": [
    "# total energy extraction from .egr file \n",
    "\n",
    "import os\n",
    "import subprocess\n",
    "\n",
    "miner_paths = ['data/5oxe/max_steps_50/miners']\n",
    "for loc in miner_paths:\n",
    "    hotkeys = os.listdir(loc)\n",
    "    for key in hotkeys:\n",
    "        hotkey_path = os.path.join(loc, key)\n",
    "        # Define the command as a list\n",
    "        cmd = [\n",
    "            'gmx', 'energy',\n",
    "            '-f', os.path.join(hotkey_path, 'md_0_1.edr'),\n",
    "            '-o', os.path.join(hotkey_path, 'total.xvg'),\n",
    "        ]\n",
    "        # Open a subprocess to run the command\n",
    "        process = subprocess.Popen(cmd, stdin=subprocess.PIPE, stdout=subprocess.PIPE, stderr=subprocess.PIPE, text=True)\n",
    "        # Send 'Protein' twice to the process stdin due to GROMACS group selection prompts\n",
    "        output, errors = process.communicate(input='Total-Energy\\n')\n",
    "        if process.returncode == 0:\n",
    "            print(f\"Total Energy Extraction successful for {key}\")\n",
    "        else:\n",
    "            print(f\"Total Energy Extraction unsuccessful for {key}: {errors}\")\n",
    "\n"
   ]
  },
  {
   "cell_type": "code",
   "execution_count": null,
   "metadata": {},
   "outputs": [],
   "source": [
    "# create a list of paths: paths \n",
    "\n",
    "miner_paths = ['data/5oxe/max_steps_50/miners']\n",
    "paths = []\n",
    "for loc in miner_paths: # for each path in the list \n",
    "    hotkeys = ! ls {loc} # list the names of all the folders \n",
    "    for key in hotkeys: # for each folder \n",
    "        hotkey_path = os.path.join(loc, key)\n",
    "        paths.append(hotkey_path)\n",
    "\n",
    "# create a list of paths to the potential.xvg files: potential_paths\n",
    "total_paths=[]\n",
    "\n",
    "for file in paths: \n",
    "    total_paths.append(file + '/total.xvg')\n",
    "\n",
    "total_paths"
   ]
  },
  {
   "cell_type": "code",
   "execution_count": null,
   "metadata": {},
   "outputs": [],
   "source": [
    "# create dfs for each total.xvg file\n",
    "import pandas as pd\n",
    "\n",
    "data_frames = []\n",
    "for path in total_paths:\n",
    "    df = pd.read_csv(path, skiprows=24, delim_whitespace=True, names=[\"time\", \"total_energy\"])\n",
    "    df['hotkey'] = path[30:35]\n",
    "    data_frames.append(df)\n",
    "\n",
    "dfs = pd.concat(data_frames)"
   ]
  },
  {
   "cell_type": "code",
   "execution_count": null,
   "metadata": {},
   "outputs": [],
   "source": [
    "# plot total energy vs time \n",
    "import plotly.express as px\n",
    "import plotly.io as pio\n",
    "\n",
    "fig = px.line(dfs, x='time', y='total_energy', color='hotkey')\n",
    "fig.update_layout(title='Total Energy vs Time for Protein 5oxe')\n",
    "fig.show()\n",
    "fig.write_image(\"data/5oxe/max_steps_50/miners/total_energy.png\")"
   ]
  },
  {
   "cell_type": "markdown",
   "metadata": {},
   "source": [
    "## RMSD"
   ]
  },
  {
   "cell_type": "markdown",
   "metadata": {},
   "source": [
    "- `-s` specifies the reference structure (often the .tpr)\n",
    "- `-f` specifies the trajectory file (.xtc or .trr)\n",
    "- `-o` specifies the output file of the RMSD value (in .xvg format)\n",
    "- `-tu ns` specifies the time unit fore the x-axis in the plot (nanoseconds) \n",
    "\n",
    "The cell below produces the `rmsd.xvg` files. It is important to specify a subprocess in the function so that we can specify the group for the least squares fitting process, as well as the actual RMSD calculation (which atoms to consider when computing the RMSD between the aligned structures.)\n",
    "1. Selecting 'Protein\" for the lsq indicates that the least squares fir should be performed based on the entire protein's atomic positions. \n",
    "2. Selecting 'Protein' for the RMSD calculation tells GROMACS which atoms to consider when computing the RMSD between the aligned structures.\n",
    "\n",
    "Focusing on the whole protien i.e. choosing 'Protein' for both of the above choices provides a general view of structural stability and conformational changes. Selecting other specific groups yield insights into more detailed aspects of protein dynamics. **Comparing these metrics across simulations can help identify the most stable conformations**"
   ]
  },
  {
   "cell_type": "markdown",
   "metadata": {},
   "source": [
    "Example Output: \n",
    "\n",
    "```\n",
    "(venv) root@fd7a38380ffb:~/sergio/folding# gmx rms -s data/5oxe/max_steps_50/miners/5f6er/md_0_1.tpr -f data/5oxe/max_steps_50/miners/5f6er/md_0_1.trr -o data/5oxe/max_steps_50/miners/5f6er/rmsd.xvg -tu ns\n",
    "                       :-) GROMACS - gmx rms, 2024.1 (-:\n",
    "\n",
    "Executable:   /usr/local/gromacs/bin/gmx\n",
    "Data prefix:  /usr/local/gromacs\n",
    "Working dir:  /root/sergio/folding\n",
    "Command line:\n",
    "  gmx rms -s data/5oxe/max_steps_50/miners/5f6er/md_0_1.tpr -f data/5oxe/max_steps_50/miners/5f6er/md_0_1.trr -o data/5oxe/max_steps_50/miners/5f6er/rmsd.xvg -tu ns\n",
    "\n",
    "Reading file data/5oxe/max_steps_50/miners/5f6er/md_0_1.tpr, VERSION 2024.1 (single precision)\n",
    "Reading file data/5oxe/max_steps_50/miners/5f6er/md_0_1.tpr, VERSION 2024.1 (single precision)\n",
    "Select group for least squares fit\n",
    "Group     0 (         System) has 44747 elements\n",
    "Group     1 (        Protein) has  1037 elements\n",
    "Group     2 (      Protein-H) has   505 elements\n",
    "Group     3 (        C-alpha) has    70 elements\n",
    "Group     4 (       Backbone) has   210 elements\n",
    "Group     5 (      MainChain) has   279 elements\n",
    "Group     6 (   MainChain+Cb) has   339 elements\n",
    "Group     7 (    MainChain+H) has   348 elements\n",
    "Group     8 (      SideChain) has   689 elements\n",
    "Group     9 (    SideChain-H) has   226 elements\n",
    "Group    10 (    Prot-Masses) has  1037 elements\n",
    "Group    11 (    non-Protein) has 43710 elements\n",
    "Group    12 (          Water) has 43707 elements\n",
    "Group    13 (            SOL) has 43707 elements\n",
    "Group    14 (      non-Water) has  1040 elements\n",
    "Group    15 (            Ion) has     3 elements\n",
    "Group    16 ( Water_and_ions) has 43710 elements\n",
    "Select a group: Protein\n",
    "Selected 1: 'Protein'\n",
    "Select group for RMSD calculation\n",
    "Group     0 (         System) has 44747 elements\n",
    "Group     1 (        Protein) has  1037 elements\n",
    "Group     2 (      Protein-H) has   505 elements\n",
    "Group     3 (        C-alpha) has    70 elements\n",
    "Group     4 (       Backbone) has   210 elements\n",
    "Group     5 (      MainChain) has   279 elements\n",
    "Group     6 (   MainChain+Cb) has   339 elements\n",
    "Group     7 (    MainChain+H) has   348 elements\n",
    "Group     8 (      SideChain) has   689 elements\n",
    "Group     9 (    SideChain-H) has   226 elements\n",
    "Group    10 (    Prot-Masses) has  1037 elements\n",
    "Group    11 (    non-Protein) has 43710 elements\n",
    "Group    12 (          Water) has 43707 elements\n",
    "Group    13 (            SOL) has 43707 elements\n",
    "Group    14 (      non-Water) has  1040 elements\n",
    "Group    15 (            Ion) has     3 elements\n",
    "Group    16 ( Water_and_ions) has 43710 elements\n",
    "Select a group: Protein\n",
    "Selected 1: 'Protein'\n",
    "trr version: GMX_trn_file (single precision)\n",
    "Last frame         50 time    0.00\n",
    "```"
   ]
  },
  {
   "cell_type": "code",
   "execution_count": null,
   "metadata": {},
   "outputs": [],
   "source": [
    "# Create RMSD Files \n",
    "\n",
    "import os\n",
    "import subprocess\n",
    "\n",
    "miner_paths = ['data/5oxe/max_steps_50/miners']\n",
    "for loc in miner_paths:\n",
    "    hotkeys = os.listdir(loc)\n",
    "    for key in hotkeys:\n",
    "        hotkey_path = os.path.join(loc, key)\n",
    "        # Define the command as a list\n",
    "        cmd = [\n",
    "            'gmx', 'rms',\n",
    "            '-s', os.path.join(hotkey_path, 'md_0_1.tpr'),\n",
    "            '-f', os.path.join(hotkey_path, 'md_0_1.trr'),\n",
    "            '-o', os.path.join(hotkey_path, 'rmsd.xvg'),\n",
    "            '-tu', 'ns'\n",
    "        ]\n",
    "        # Open a subprocess to run the command\n",
    "        process = subprocess.Popen(cmd, stdin=subprocess.PIPE, stdout=subprocess.PIPE, stderr=subprocess.PIPE, text=True)\n",
    "        # Send 'Protein' twice to the process stdin due to GROMACS group selection prompts\n",
    "        output, errors = process.communicate(input='Protein\\nProtein\\n')\n",
    "        if process.returncode == 0:\n",
    "            print(f\"RMSD calculation successful for {key}\")\n",
    "        else:\n",
    "            print(f\"Error in RMSD calculation for {key}: {errors}\")\n",
    "\n"
   ]
  },
  {
   "cell_type": "code",
   "execution_count": null,
   "metadata": {},
   "outputs": [],
   "source": [
    "# create a list of paths: paths \n",
    "miner_paths = ['data/5oxe/max_steps_50/miners']\n",
    "paths = []\n",
    "for loc in miner_paths: # for each path in the list \n",
    "    hotkeys = ! ls {loc} # list the names of all the folders \n",
    "    for key in hotkeys: # for each folder \n",
    "        hotkey_path = os.path.join(loc, key)\n",
    "        paths.append(hotkey_path)\n",
    "\n",
    "# create a list of paths to the potential.xvg files: potential_paths\n",
    "rmsd_paths=[]\n",
    "\n",
    "for file in paths: \n",
    "    rmsd_paths.append(file + '/rmsd.xvg')\n",
    "\n",
    "rmsd_paths"
   ]
  },
  {
   "cell_type": "code",
   "execution_count": null,
   "metadata": {},
   "outputs": [],
   "source": [
    "# Create DFs out of rmsd data \n",
    "import pandas as pd\n",
    "\n",
    "data_frames = []\n",
    "for path in rmsd_paths:\n",
    "    df = pd.read_csv(path, skiprows=24, delim_whitespace=True, names=[\"time\", \"rmsd\"])\n",
    "    df['hotkey'] = path[30:35]\n",
    "    data_frames.append(df)\n",
    "\n",
    "dfs = pd.concat(data_frames)\n",
    "dfs\n"
   ]
  },
  {
   "cell_type": "code",
   "execution_count": null,
   "metadata": {},
   "outputs": [],
   "source": [
    "# plot RMSD\n",
    "import plotly.express as px\n",
    "import plotly.io as pio\n",
    "\n",
    "fig = px.line(dfs, x='time', y='rmsd', color='hotkey')\n",
    "fig.update_layout(title='RMSD vs Time for Protein 5oxe')\n",
    "fig.show()\n",
    "fig.write_image(\"data/5oxe/max_steps_50/miners/rmsd.png\")"
   ]
  }
 ],
 "metadata": {
  "kernelspec": {
   "display_name": "venv",
   "language": "python",
   "name": "python3"
  },
  "language_info": {
   "codemirror_mode": {
    "name": "ipython",
    "version": 3
   },
   "file_extension": ".py",
   "mimetype": "text/x-python",
   "name": "python",
   "nbconvert_exporter": "python",
   "pygments_lexer": "ipython3",
   "version": "3.10.12"
  }
 },
 "nbformat": 4,
 "nbformat_minor": 2
}

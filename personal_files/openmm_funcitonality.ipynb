{
 "cells": [
  {
   "cell_type": "code",
   "execution_count": 1,
   "metadata": {},
   "outputs": [],
   "source": [
    "import openmm\n",
    "import openmm.app\n",
    "import openmm.unit\n",
    "from sys import stdout\n",
    "\n",
    "import pandas as pd\n",
    "import numpy as np\n",
    "import plotly.express as px"
   ]
  },
  {
   "cell_type": "markdown",
   "metadata": {},
   "source": [
    "## Section 1: Confirming the correct protein (GRO hash alternative)"
   ]
  },
  {
   "cell_type": "markdown",
   "metadata": {},
   "source": [
    "Running a simulation and saving a checkpoint as a miner would do"
   ]
  },
  {
   "cell_type": "code",
   "execution_count": 69,
   "metadata": {},
   "outputs": [
    {
     "name": "stdout",
     "output_type": "stream",
     "text": [
      "#\"Step\",\"Potential Energy (kJ/mole)\",\"Kinetic Energy (kJ/mole)\",\"Total Energy (kJ/mole)\",\"Temperature (K)\",\"Box Volume (nm^3)\"\n",
      "100,-38.360044151782404,118.19944520689371,79.83940105511131,359.90191493105726,8.0\n",
      "200,-14.35001459424518,148.53221234277646,134.18219774853128,452.26123995372114,8.0\n",
      "300,-17.643788541044728,148.5696682354412,130.92587969439649,452.3752882681773,8.0\n",
      "400,17.812211009473003,149.3204597705531,167.1326707800261,454.66135070043174,8.0\n",
      "500,-0.8342087653820727,169.31260592729757,168.4783971619155,515.5348317290403,8.0\n",
      "600,-122.77901666656282,287.06204281839445,164.28302615183162,874.0665299530167,8.0\n",
      "700,-150.1486095735171,301.72160180175587,151.57299222823877,918.7029776192605,8.0\n",
      "800,-92.38115951570569,259.1850604904545,166.80390097474879,789.1847497994523,8.0\n",
      "900,-104.59276316044668,293.15783983988064,188.56507667943396,892.6274378931834,8.0\n",
      "1000,-78.20206565193769,230.53701795630982,152.33495230437214,701.9551917501925,8.0\n",
      "1100,-104.5062111810904,206.20591194150353,101.69970076041312,627.8701431123446,8.0\n",
      "1200,-77.94975342167413,203.22076778960627,125.27101436793214,618.780767991061,8.0\n",
      "1300,-137.68057345962256,247.05216457562722,109.37159111600465,752.2416620737677,8.0\n",
      "1400,-95.8168377314845,238.61675360683003,142.79991587534553,726.5569344036289,8.0\n",
      "1500,-117.7561836536704,198.49118930448736,80.73500565081696,604.3798175413227,8.0\n",
      "1600,-92.5703776510469,169.81875781133348,77.24838016028659,517.0759982885925,8.0\n",
      "1700,-107.43364252853019,187.13806468686926,79.70442215833907,569.8110318488043,8.0\n",
      "1800,-149.6854613889276,178.090018586364,28.404557197436418,542.2609099996165,8.0\n",
      "1900,-171.20456015223272,240.70135347329185,69.49679332105913,732.9042694735305,8.0\n",
      "2000,-122.1146054486203,176.8498904120061,54.735284963385794,538.4848812379744,8.0\n",
      "2100,-105.70567345451025,205.9058806030014,100.20020714849116,626.9565867663125,8.0\n",
      "2200,-173.54692105149638,275.89498205973723,102.34806100824085,840.064284475829,8.0\n",
      "2300,-89.17037309395471,211.61215594350543,122.44178284955072,644.3314519238986,8.0\n",
      "2400,-99.40538357647438,213.5724512694768,114.16706769300242,650.3002958589321,8.0\n",
      "2500,-144.96889757917143,268.81394705332474,123.84504947415331,818.5034552008616,8.0\n",
      "2600,-92.71789394073744,194.71267493595795,101.99478099522051,592.8747334485174,8.0\n",
      "2700,-125.84809647822362,226.18247702906558,100.33438055084196,688.6961818147596,8.0\n",
      "2800,-138.43267397269142,207.66068155984664,69.22800758715522,632.2997271134266,8.0\n",
      "2900,-208.77120002246556,225.57709344917868,16.805893426713112,686.8528676664762,8.0\n",
      "3000,-173.11777927045443,136.75002855300013,-36.3677507174543,416.38602496783176,8.0\n",
      "3100,-180.2836936519983,225.86455764261981,45.58086399062151,687.7281586926945,8.0\n",
      "3200,-159.1555300072771,180.8011648139466,21.645634806669506,550.5159971301623,8.0\n",
      "3300,-185.12632506349678,193.29971050119374,8.173385437696965,588.572440786221,8.0\n",
      "3400,-179.4239190419661,180.5621462767712,1.1382272348051004,549.7882168171255,8.0\n",
      "3500,-149.23694451977735,179.23369408430483,29.996749564527477,545.7432529247305,8.0\n",
      "3600,-185.0655189835984,200.0646393585535,14.999120374955112,609.1707680108073,8.0\n",
      "3700,-137.44491204356427,127.5530880695313,-9.891823974032974,388.3825391163233,8.0\n",
      "3800,-154.74821846514556,136.87004903054472,-17.878169434600835,416.7514716890379,8.0\n",
      "3900,-161.46089606063924,168.61488737781093,7.153991317171688,513.4103696251478,8.0\n",
      "4000,-138.48611893265115,151.27900145813214,12.79288252548099,460.62485503497567,8.0\n",
      "4100,-143.27759766327006,180.7432671517263,37.46566948845623,550.3397062899926,8.0\n",
      "4200,-177.19711956327217,239.52533541280897,62.328215849536804,729.3234476581621,8.0\n",
      "4300,-166.30537504017616,184.44501467877805,18.139639638601892,561.6110453495395,8.0\n",
      "4400,-100.49213057443126,172.7394717661793,72.24734119174803,525.9691918520219,8.0\n",
      "4500,-157.3280072449851,218.02371264612577,60.695705401140685,663.8538069647625,8.0\n",
      "4600,-138.4811975335623,213.63634659629807,75.15514906273577,650.4948488066035,8.0\n",
      "4700,-133.0652401060364,239.99993398611986,106.93469388008344,730.768538496441,8.0\n",
      "4800,-124.75681724824665,204.71960194369427,79.96278469544762,623.3445227639885,8.0\n",
      "4900,-168.42031439508912,254.23414833077913,85.81383393569001,774.1098671398619,8.0\n",
      "5000,-189.8802729410096,222.25202575096102,32.37175280995143,676.7284696223968,8.0\n"
     ]
    }
   ],
   "source": [
    "pdb = openmm.app.PDBFile('ala_ala_ala.pdb')\n",
    "forcefield = openmm.app.ForceField('amber99sb.xml', 'tip3p.xml')\n",
    "system = forcefield.createSystem(pdb.topology, nonbondedMethod=openmm.app.NoCutoff, nonbondedCutoff=1.0*openmm.unit.nanometers, constraints=openmm.app.HBonds)\n",
    "\n",
    "# Set the random seed for the integrator\n",
    "integrator = openmm.LangevinIntegrator(700*openmm.unit.kelvin, 1.0/openmm.unit.picosecond, 0.002*openmm.unit.picoseconds)\n",
    "integrator.setRandomNumberSeed(42)\n",
    "\n",
    "# Use CUDA platform with deterministic properties\n",
    "platform = openmm.Platform.getPlatformByName('CUDA')\n",
    "properties = {'DeterministicForces': 'true', 'Precision': 'double'}\n",
    "simulation = openmm.app.Simulation(pdb.topology, system, integrator, platform, properties)\n",
    "\n",
    "# Set initial positions\n",
    "simulation.context.setPositions(pdb.positions)\n",
    "simulation.context.setVelocitiesToTemperature(700*openmm.unit.kelvin)\n",
    "\n",
    "# Minimize energy\n",
    "simulation.minimizeEnergy()\n",
    "\n",
    "# Run the simulation\n",
    "simulation.reporters.append(openmm.app.StateDataReporter('output.log', 10, step=True, potentialEnergy=True, temperature=True))\n",
    "\n",
    "\n",
    "# Writes a checkpoint every 1000 steps\n",
    "simulation.reporters.append(openmm.app.CheckpointReporter(\"chkpt_new_test.chk\", reportInterval=1000))\n",
    "# Report infomation to the screen as the simulation runs\n",
    "simulation.reporters.append(openmm.app.StateDataReporter(stdout, 100, step=True,\n",
    "        potentialEnergy=True, temperature=True, volume=True, kineticEnergy=True, totalEnergy=True))\n",
    "simulation.step(5000)\n"
   ]
  },
  {
   "cell_type": "code",
   "execution_count": 47,
   "metadata": {},
   "outputs": [
    {
     "name": "stdout",
     "output_type": "stream",
     "text": [
      "n_constraints: 17\n"
     ]
    },
    {
     "data": {
      "text/plain": [
       "Quantity(value=321120.1273378584, unit=joule/(kelvin*mole))"
      ]
     },
     "execution_count": 47,
     "metadata": {},
     "output_type": "execute_result"
    }
   ],
   "source": [
    "T = 941.9969260132757\n",
    "\n",
    "# Calculate the number of degrees of freedom\n",
    "n_atoms = system.getNumParticles()\n",
    "n_constraints = system.getNumConstraints()\n",
    "print(f\"n_constraints: {n_constraints}\")\n",
    "degrees_of_freedom = 3 * n_atoms - n_constraints\n",
    "\n",
    "k_B = openmm.unit.BOLTZMANN_CONSTANT_kB * openmm.unit.AVOGADRO_CONSTANT_NA  # in kJ/mol*K\n",
    "\n",
    "KE = k_B * degrees_of_freedom * T / 2\n",
    "KE"
   ]
  },
  {
   "cell_type": "markdown",
   "metadata": {},
   "source": [
    " Validators will then load the checkpoint"
   ]
  },
  {
   "cell_type": "code",
   "execution_count": 72,
   "metadata": {},
   "outputs": [],
   "source": [
    "pdb = openmm.app.PDBFile('ala_ala_ala.pdb')\n",
    "\n",
    "## this is going to get overwritten by load_checkpoint anyways, just initializing a simulation object\n",
    "\n",
    "forcefield = openmm.app.ForceField('amber99sb.xml', 'tip3p.xml')\n",
    "system = forcefield.createSystem(pdb.topology, nonbondedMethod=openmm.app.NoCutoff, nonbondedCutoff=1.0*openmm.unit.nanometers, constraints=openmm.app.HBonds)\n",
    "\n",
    "# forcefield = openmm.app.ForceField('amber14-all.xml', 'tip3p.xml')\n",
    "# system = forcefield.createSystem(pdb.topology, nonbondedMethod=openmm.app.NoCutoff, nonbondedCutoff=3.0*openmm.unit.nanometers, constraints=openmm.app.HBonds)\n",
    "\n",
    "\n",
    "# Set the random seed for the integrator\n",
    "integrator = openmm.LangevinIntegrator(4734737*openmm.unit.kelvin, 1.0/openmm.unit.picosecond, 0.002*openmm.unit.picoseconds)\n",
    "integrator.setRandomNumberSeed(42)\n",
    "\n",
    "# Use CUDA platform with deterministic properties\n",
    "platform = openmm.Platform.getPlatformByName('CUDA')\n",
    "properties = {'DeterministicForces': 'true', 'Precision': 'double'}\n",
    "simulation = openmm.app.Simulation(pdb.topology, system, integrator, platform, properties)\n",
    "\n",
    "simulation.loadCheckpoint(\"chkpt_new_test.cpt\")\n",
    "\n"
   ]
  },
  {
   "cell_type": "code",
   "execution_count": 73,
   "metadata": {},
   "outputs": [
    {
     "data": {
      "text/plain": [
       "Quantity(value=4734737.0, unit=kelvin)"
      ]
     },
     "execution_count": 73,
     "metadata": {},
     "output_type": "execute_result"
    }
   ],
   "source": [
    "#so this doesn't seem to overright the original variable. \n",
    "simulation.integrator.getTemperature()"
   ]
  },
  {
   "cell_type": "code",
   "execution_count": 74,
   "metadata": {},
   "outputs": [
    {
     "data": {
      "text/plain": [
       "<openmm.openmm.State; proxy of <Swig Object of type 'OpenMM::State *' at 0x7fdc634cdef0> >"
      ]
     },
     "execution_count": 74,
     "metadata": {},
     "output_type": "execute_result"
    }
   ],
   "source": [
    "state = simulation.context.getState(getPositions=True, getVelocities=True, getEnergy=True)\n",
    "state"
   ]
  },
  {
   "cell_type": "code",
   "execution_count": 75,
   "metadata": {},
   "outputs": [
    {
     "data": {
      "text/plain": [
       "33"
      ]
     },
     "execution_count": 75,
     "metadata": {},
     "output_type": "execute_result"
    }
   ],
   "source": [
    "system.getNumParticles()"
   ]
  },
  {
   "cell_type": "code",
   "execution_count": 76,
   "metadata": {},
   "outputs": [
    {
     "name": "stdout",
     "output_type": "stream",
     "text": [
      "Calculated kinetic energy: 98.54999553930345 kJ/mol\n",
      "Calculated Temperature: 289.0936598283457 K\n"
     ]
    }
   ],
   "source": [
    "kinetic_energy = state.getKineticEnergy()\n",
    "\n",
    "# Calculate the number of degrees of freedom\n",
    "n_atoms = system.getNumParticles()\n",
    "n_constraints = system.getNumConstraints()\n",
    "degrees_of_freedom = 3 * n_atoms - n_constraints\n",
    "\n",
    "# Boltzmann constant\n",
    "k_B = openmm.unit.BOLTZMANN_CONSTANT_kB * openmm.unit.AVOGADRO_CONSTANT_NA  # in kJ/mol*K\n",
    "\n",
    "# Calculate temperature\n",
    "temperature = (2 * kinetic_energy) / (degrees_of_freedom * k_B)\n",
    "temperature = temperature.in_units_of(openmm.unit.kelvin)\n",
    "\n",
    "# Print the calculated temperature\n",
    "print(f\"Calculated kinetic energy: {kinetic_energy}\")\n",
    "print(f\"Calculated Temperature: {temperature}\")"
   ]
  },
  {
   "cell_type": "code",
   "execution_count": 25,
   "metadata": {},
   "outputs": [
    {
     "data": {
      "text/plain": [
       "Quantity(value=30.0, unit=kelvin)"
      ]
     },
     "execution_count": 25,
     "metadata": {},
     "output_type": "execute_result"
    }
   ],
   "source": [
    "#so this doesn't seem to overright the original variable. \n",
    "simulation.integrator.getTemperature()"
   ]
  },
  {
   "cell_type": "code",
   "execution_count": 45,
   "metadata": {},
   "outputs": [
    {
     "name": "stdout",
     "output_type": "stream",
     "text": [
      "Temperature: 30.0 K\n",
      "Friction Coefficient: 1.0 /ps\n",
      "Timestep: 0.002 ps\n",
      "n_constraints: 17\n",
      "Calculated Temperature from Kinetic Energy: 289.1286973050088 K\n"
     ]
    }
   ],
   "source": [
    "# Load the PDB file\n",
    "pdb = openmm.app.PDBFile('ala_ala_ala.pdb')\n",
    "\n",
    "# Create a forcefield and system (parameters will be overwritten by checkpoint)\n",
    "forcefield = openmm.app.ForceField('amber14-all.xml', 'tip3p.xml')\n",
    "system = forcefield.createSystem(pdb.topology, nonbondedMethod=openmm.app.NoCutoff, nonbondedCutoff=3.0*openmm.unit.nanometers, constraints=openmm.app.HBonds)\n",
    "\n",
    "# Set the random seed for the integrator\n",
    "integrator = openmm.LangevinIntegrator(30*openmm.unit.kelvin, 1.0/openmm.unit.picosecond, 0.002*openmm.unit.picoseconds)\n",
    "integrator.setRandomNumberSeed(42)\n",
    "\n",
    "# Use CUDA platform with deterministic properties\n",
    "platform = openmm.Platform.getPlatformByName('CUDA')\n",
    "properties = {'DeterministicForces': 'true', 'Precision': 'double'}\n",
    "simulation = openmm.app.Simulation(pdb.topology, system, integrator, platform, properties)\n",
    "\n",
    "# # Load the checkpoint file\n",
    "# checkpoint_file = 'checkpoint.chk'\n",
    "# with open(checkpoint_file, 'rb') as f:\n",
    "#     simulation.context.loadCheckpoint(f.read())\n",
    "\n",
    "simulation.loadCheckpoint(\"chkpt_new_test.cpt\")\n",
    "\n",
    "# Extract integrator parameters from the context\n",
    "loaded_integrator = simulation.integrator\n",
    "temperature = loaded_integrator.getTemperature()\n",
    "friction = loaded_integrator.getFriction()\n",
    "timestep = loaded_integrator.getStepSize()\n",
    "\n",
    "# Print the extracted parameters\n",
    "print(f\"Temperature: {temperature}\")\n",
    "print(f\"Friction Coefficient: {friction}\")\n",
    "print(f\"Timestep: {timestep}\")\n",
    "\n",
    "# Extract state information (positions, velocities, energies)\n",
    "state = simulation.context.getState(getPositions=True, getVelocities=True, getEnergy=True)\n",
    "kinetic_energy = state.getKineticEnergy()\n",
    "\n",
    "# Calculate the number of degrees of freedom\n",
    "n_atoms = system.getNumParticles()\n",
    "n_constraints = system.getNumConstraints()\n",
    "print(f\"n_constraints: {n_constraints}\")\n",
    "degrees_of_freedom = 3 * n_atoms - n_constraints\n",
    "\n",
    "# Boltzmann constant\n",
    "k_B = openmm.unit.BOLTZMANN_CONSTANT_kB * openmm.unit.AVOGADRO_CONSTANT_NA  # in kJ/mol*K\n",
    "\n",
    "# Calculate temperature from kinetic energy\n",
    "calculated_temperature = (2 * kinetic_energy) / (degrees_of_freedom * k_B)\n",
    "calculated_temperature = calculated_temperature.in_units_of(openmm.unit.kelvin)\n",
    "\n",
    "# Print the calculated temperature\n",
    "print(f\"Calculated Temperature from Kinetic Energy: {calculated_temperature}\")\n"
   ]
  },
  {
   "cell_type": "markdown",
   "metadata": {},
   "source": [
    "## Section 2: controlling water, box, forcefield as well as temperature, pressure and other parameters in the .mdp file"
   ]
  },
  {
   "cell_type": "markdown",
   "metadata": {},
   "source": [
    "Forcefields can be created using the forcefield object, this includes water as well. All built in forcefields are found [here](https://ommprotocol.readthedocs.io/en/latest/forcefields.html)\n",
    "\n",
    "[PBC Documentation](http://docs.openmm.org/latest/userguide/theory/05_other_features.html)"
   ]
  },
  {
   "cell_type": "code",
   "execution_count": null,
   "metadata": {},
   "outputs": [],
   "source": [
    "forcefield = openmm.app.ForceField('amber99sb.xml', 'tip3p.xml')\n"
   ]
  },
  {
   "cell_type": "code",
   "execution_count": null,
   "metadata": {},
   "outputs": [],
   "source": [
    "\n",
    "\n",
    "# Load your system and topology\n",
    "# Replace 'your_pdb_file.pdb' and 'your_forcefield.xml' with your actual files\n",
    "pdb = openmm.app.PDBFile('input.pdb')\n",
    "forcefield = openmm.app.ForceField('amber14-all.xml', 'amber14/tip3pfb.xml')\n",
    "\n",
    "# Create the system\n",
    "system = forcefield.createSystem(pdb.topology, \n",
    "                                 nonbondedMethod=openmm.app.PME,\n",
    "                                 nonbondedCutoff=1.2*openmm.unit.nanometers, \n",
    "                                 constraints=openmm.app.HBonds, \n",
    "                                 ewaldErrorTolerance=0.0005)\n",
    "\n",
    "# Integrator and thermostat settings\n",
    "integrator = openmm.LangevinIntegrator(300*openmm.unit.kelvin,    # ref_t\n",
    "                                   1/openmm.unit.picosecond,  # tau_t\n",
    "                                   0.002*openmm.unit.picoseconds)  # dt\n",
    "\n",
    "# Barostat settings (pressure coupling)\n",
    "system.addForce(openmm.MonteCarloBarostat(1*openmm.unit.bar, 300*openmm.unit.kelvin, 25))  # ref_p, ref_t, frequency\n",
    "\n",
    "# Set periodic boundary conditions\n",
    "pdb.topology.setPeriodicBoxVectors(system.getDefaultPeriodicBoxVectors())\n",
    "\n",
    "# Create the simulation object\n",
    "simulation = openmm.app.Simulation(pdb.topology, system, integrator)\n",
    "\n",
    "# Set the initial positions\n",
    "simulation.context.setPositions(pdb.positions)\n",
    "\n",
    "# Minimize energy\n",
    "simulation.minimizeEnergy()\n",
    "\n",
    "# Set velocities to match the given temperature\n",
    "simulation.context.setVelocitiesToTemperature(300*openmm.unit.kelvin)\n",
    "\n",
    "# Set up reporters to output data\n",
    "simulation.reporters.append(openmm.app.DCDReporter('trajectory.dcd', 2500))  # nstxout-compressed\n",
    "simulation.reporters.append(openmm.app.StateDataReporter(stdout, 50,  # nstlog\n",
    "                                                  step=True, \n",
    "                                                  potentialEnergy=True, \n",
    "                                                  kineticEnergy=True, \n",
    "                                                  totalEnergy=True, \n",
    "                                                  temperature=True, \n",
    "                                                  volume=True))\n",
    "\n",
    "\n",
    "# Run the simulation\n",
    "simulation.step(50000)  # nsteps\n",
    "\n",
    "simulation.saveCheckpoint(\"nvt.cpt\")\n",
    "\n",
    "print(\"Simulation complete.\")"
   ]
  },
  {
   "cell_type": "markdown",
   "metadata": {},
   "source": [
    "## Section 3: OpenMM allows for re-running to recalculate energy as well"
   ]
  },
  {
   "cell_type": "code",
   "execution_count": 16,
   "metadata": {},
   "outputs": [
    {
     "name": "stdout",
     "output_type": "stream",
     "text": [
      "Simulation complete.\n"
     ]
    }
   ],
   "source": [
    "\n",
    "\n",
    "# Load your system and topology\n",
    "# Replace 'your_pdb_file.pdb' and 'your_forcefield.xml' with your actual files\n",
    "pdb = openmm.app.PDBFile('input.pdb')\n",
    "forcefield = openmm.app.ForceField('amber14-all.xml', 'amber14/tip3pfb.xml')\n",
    "\n",
    "# Create the system\n",
    "system = forcefield.createSystem(pdb.topology, \n",
    "                                 nonbondedMethod=openmm.app.PME,\n",
    "                                 nonbondedCutoff=1.2*openmm.unit.nanometers, \n",
    "                                 constraints=openmm.app.HBonds, \n",
    "                                 ewaldErrorTolerance=0.0005)\n",
    "\n",
    "# Integrator and thermostat settings\n",
    "integrator = openmm.LangevinIntegrator(300*openmm.unit.kelvin,    # ref_t\n",
    "                                   1/openmm.unit.picosecond,  # tau_t\n",
    "                                   0.002*openmm.unit.picoseconds)  # dt\n",
    "\n",
    "# Barostat settings (pressure coupling)\n",
    "system.addForce(openmm.MonteCarloBarostat(1*openmm.unit.bar, 300*openmm.unit.kelvin, 25))  # ref_p, ref_t, frequency\n",
    "\n",
    "# Create the simulation object\n",
    "simulation = openmm.app.Simulation(pdb.topology, system, integrator)\n",
    "\n",
    "# Set the initial positions\n",
    "simulation.context.setPositions(pdb.positions)\n",
    "\n",
    "# Minimize energy\n",
    "simulation.minimizeEnergy()\n",
    "\n",
    "# Set velocities to match the given temperature\n",
    "simulation.context.setVelocitiesToTemperature(300*openmm.unit.kelvin)\n",
    "\n",
    "# Set up reporters to output data\n",
    "simulation.reporters.append(openmm.app.DCDReporter('trajectory.dcd', 2500))  # nstxout-compressed\n",
    "simulation.reporters.append(openmm.app.PDBReporter(\"output.pdb\", 2500, enforcePeriodicBox=False))\n",
    "simulation.reporters.append(openmm.app.StateDataReporter(stdout, 50,  # nstlog\n",
    "                                                  step=True, \n",
    "                                                  potentialEnergy=True, \n",
    "                                                  kineticEnergy=True, \n",
    "                                                  totalEnergy=True, \n",
    "                                                  temperature=True, \n",
    "                                                  volume=True))\n",
    "\n",
    "# Run the simulation\n",
    "simulation.step(10000)  # nsteps\n",
    "\n",
    "\n",
    "\n",
    "print(\"Simulation complete.\")"
   ]
  },
  {
   "cell_type": "code",
   "execution_count": 20,
   "metadata": {},
   "outputs": [
    {
     "name": "stdout",
     "output_type": "stream",
     "text": [
      "-141163.43034704903 kJ/mol\n",
      "17735.555667047884 kJ/mol\n"
     ]
    },
    {
     "ename": "AttributeError",
     "evalue": "'State' object has no attribute 'getTotalEnergy'",
     "output_type": "error",
     "traceback": [
      "\u001b[0;31m---------------------------------------------------------------------------\u001b[0m",
      "\u001b[0;31mAttributeError\u001b[0m                            Traceback (most recent call last)",
      "Cell \u001b[0;32mIn[20], line 6\u001b[0m\n\u001b[1;32m      4\u001b[0m \u001b[38;5;28mprint\u001b[39m(state\u001b[38;5;241m.\u001b[39mgetPotentialEnergy())\n\u001b[1;32m      5\u001b[0m \u001b[38;5;28mprint\u001b[39m(state\u001b[38;5;241m.\u001b[39mgetKineticEnergy())\n\u001b[0;32m----> 6\u001b[0m \u001b[38;5;28mprint\u001b[39m(\u001b[43mstate\u001b[49m\u001b[38;5;241;43m.\u001b[39;49m\u001b[43mgetTotalEnergy\u001b[49m())\n",
      "\u001b[0;31mAttributeError\u001b[0m: 'State' object has no attribute 'getTotalEnergy'"
     ]
    }
   ],
   "source": [
    "pdb = openmm.app.PDBFile(\"output.pdb\")\n",
    "simulation.context.setPositions(pdb.positions)\n",
    "state = simulation.context.getState(getEnergy=True)\n",
    "print(state.getPotentialEnergy())\n",
    "print(state.getKineticEnergy())\n"
   ]
  },
  {
   "cell_type": "markdown",
   "metadata": {},
   "source": [
    "## Section 4: Visualizations TODO"
   ]
  },
  {
   "cell_type": "code",
   "execution_count": 2,
   "metadata": {},
   "outputs": [
    {
     "data": {
      "application/vnd.jupyter.widget-view+json": {
       "model_id": "8b43f1fb9b364f41a4abfb771b6cfb3e",
       "version_major": 2,
       "version_minor": 0
      },
      "text/plain": []
     },
     "metadata": {},
     "output_type": "display_data"
    }
   ],
   "source": [
    "import nglview as nv\n",
    "import MDAnalysis as mda"
   ]
  },
  {
   "cell_type": "code",
   "execution_count": 3,
   "metadata": {},
   "outputs": [
    {
     "name": "stderr",
     "output_type": "stream",
     "text": [
      "/home/paperspace/miniconda3/lib/python3.12/site-packages/MDAnalysis/topology/PDBParser.py:331: UserWarning: Element information is missing, elements attribute will not be populated. If needed these can be guessed using MDAnalysis.topology.guessers.\n",
      "  warnings.warn(\"Element information is missing, elements attribute \"\n",
      "/home/paperspace/miniconda3/lib/python3.12/site-packages/MDAnalysis/coordinates/DCD.py:165: DeprecationWarning: DCDReader currently makes independent timesteps by copying self.ts while other readers update self.ts inplace. This behavior will be changed in 3.0 to be the same as other readers. Read more at https://github.com/MDAnalysis/mdanalysis/issues/3889 to learn if this change in behavior might affect you.\n",
      "  warnings.warn(\"DCDReader currently makes independent timesteps\"\n",
      "/home/paperspace/miniconda3/lib/python3.12/site-packages/MDAnalysis/coordinates/base.py:725: UserWarning: Reader has no dt information, set to 1.0 ps\n",
      "  return self.ts.dt\n"
     ]
    }
   ],
   "source": [
    "traj = mda.Universe(\"input.pdb\",\"trajectory.dcd\",all_coordinates=True)"
   ]
  },
  {
   "cell_type": "code",
   "execution_count": 8,
   "metadata": {},
   "outputs": [
    {
     "data": {
      "application/vnd.jupyter.widget-view+json": {
       "model_id": "eabfadba13eb4d78925edb09d78bf8a2",
       "version_major": 2,
       "version_minor": 0
      },
      "text/plain": [
       "Image(value=b'', width='99%')"
      ]
     },
     "execution_count": 8,
     "metadata": {},
     "output_type": "execute_result"
    }
   ],
   "source": [
    "view = nv.show_mdanalysis(traj)\n",
    "view.add_cartoon()\n",
    "view.add_surface(opacity=0.3)\n",
    "view.center('resid 50')\n",
    "\n",
    "view.\n"
   ]
  },
  {
   "cell_type": "code",
   "execution_count": null,
   "metadata": {},
   "outputs": [],
   "source": [
    "traj.atoms.positions"
   ]
  },
  {
   "cell_type": "markdown",
   "metadata": {},
   "source": [
    "## Section 5: RMSD calculations"
   ]
  },
  {
   "cell_type": "code",
   "execution_count": 23,
   "metadata": {},
   "outputs": [],
   "source": [
    "import MDAnalysis as mda\n",
    "from MDAnalysis.analysis import rms\n",
    "\n",
    "\n",
    "traj = mda.Universe(\"input.pdb\",\"trajectory.dcd\",all_coordinates=True)\n",
    "ref = mda.Universe(\"input.pdb\")"
   ]
  },
  {
   "cell_type": "markdown",
   "metadata": {},
   "source": [
    "We can calculate RMSD to a reference structure like so:"
   ]
  },
  {
   "cell_type": "code",
   "execution_count": 24,
   "metadata": {},
   "outputs": [
    {
     "data": {
      "text/plain": [
       "< Timestep 4 with unit cell dimensions [49.204155 46.01949  38.901535 90.       90.       90.      ] >"
      ]
     },
     "execution_count": 24,
     "metadata": {},
     "output_type": "execute_result"
    }
   ],
   "source": [
    "traj.trajectory[-1] ## Setting the traj Universe to the last timestep"
   ]
  },
  {
   "cell_type": "code",
   "execution_count": 25,
   "metadata": {},
   "outputs": [
    {
     "data": {
      "text/plain": [
       "0.6662518708464211"
      ]
     },
     "execution_count": 25,
     "metadata": {},
     "output_type": "execute_result"
    }
   ],
   "source": [
    "rms.rmsd(traj.select_atoms('backbone').positions,  # coordinates to align\n",
    "         ref.select_atoms('backbone').positions,  # reference coordinates\n",
    "         center=True,  # subtract the center of geometry\n",
    "         superposition=True)  # superimpose coordinates"
   ]
  },
  {
   "cell_type": "markdown",
   "metadata": {},
   "source": [
    "We can also leverage our trajcetories and use the initial trajectory as reference and calculate the RMSD for every step"
   ]
  },
  {
   "cell_type": "code",
   "execution_count": 26,
   "metadata": {},
   "outputs": [
    {
     "name": "stderr",
     "output_type": "stream",
     "text": [
      "/home/paperspace/miniconda3/lib/python3.12/site-packages/MDAnalysis/analysis/base.py:447: UserWarning: Reader has no dt information, set to 1.0 ps\n",
      "  self.times[i] = ts.time\n"
     ]
    },
    {
     "data": {
      "text/plain": [
       "<MDAnalysis.analysis.rms.RMSD at 0x7f32f48b5d30>"
      ]
     },
     "execution_count": 26,
     "metadata": {},
     "output_type": "execute_result"
    }
   ],
   "source": [
    "R = rms.RMSD(traj,  # universe to align\n",
    "             traj,  # reference universe or atomgroup\n",
    "             select='backbone',  # group to superimpose and calculate RMSD\n",
    "             ref_frame=0)  # frame index of the reference\n",
    "R.run()"
   ]
  },
  {
   "cell_type": "markdown",
   "metadata": {},
   "source": [
    "Every row is a timestep. The first two columns of each row are the frame index of the time step, and the time (which is guessed in trajectory formats without timesteps). The third column is RMSD of select."
   ]
  },
  {
   "cell_type": "code",
   "execution_count": 27,
   "metadata": {},
   "outputs": [
    {
     "name": "stderr",
     "output_type": "stream",
     "text": [
      "/home/paperspace/miniconda3/lib/python3.12/site-packages/MDAnalysis/analysis/rms.py:722: DeprecationWarning: The `rmsd` attribute was deprecated in MDAnalysis 2.0.0 and will be removed in MDAnalysis 3.0.0. Please use `results.rmsd` instead.\n",
      "  warnings.warn(wmsg, DeprecationWarning)\n"
     ]
    },
    {
     "data": {
      "text/plain": [
       "array([[0.00000000e+00, 0.00000000e+00, 1.61779200e-07],\n",
       "       [1.00000000e+00, 1.00000000e+00, 5.79340171e-01],\n",
       "       [2.00000000e+00, 6.00000001e+00, 6.92759471e-01],\n",
       "       [3.00000000e+00, 1.10000000e+01, 7.09995346e-01],\n",
       "       [4.00000000e+00, 1.60000000e+01, 6.66251871e-01]])"
      ]
     },
     "execution_count": 27,
     "metadata": {},
     "output_type": "execute_result"
    }
   ],
   "source": [
    "R.rmsd"
   ]
  },
  {
   "cell_type": "markdown",
   "metadata": {},
   "source": [
    "## Bonus Section"
   ]
  },
  {
   "cell_type": "markdown",
   "metadata": {},
   "source": [
    "Special custom modelling capabilities: http://docs.openmm.org/latest/userguide/application/03_model_building_editing.html\n",
    "\n",
    "Alows for the"
   ]
  },
  {
   "cell_type": "code",
   "execution_count": 4,
   "metadata": {},
   "outputs": [],
   "source": [
    "import os\n",
    "\n",
    "class ExitFileReporter(object):\n",
    "    def __init__(self, filename, reportInterval, checkpointFile):\n",
    "        self.filename = filename\n",
    "        self.reportInterval = reportInterval\n",
    "        self.checkpointFile = checkpointFile\n",
    "\n",
    "    def describeNextReport(self, simulation):\n",
    "        steps_left = simulation.currentStep % self.reportInterval\n",
    "        return (steps_left, False, False, False, False)\n",
    "\n",
    "    def report(self, simulation, state):\n",
    "        if os.path.exists(self.filename):\n",
    "            with open(self.checkpointFile, 'wb') as f:\n",
    "                f.write(simulation.context.createCheckpoint())\n",
    "            raise Exception(\"Simulation stopped\")\n",
    "\n",
    "    def finalize(self):\n",
    "        pass\n"
   ]
  },
  {
   "cell_type": "code",
   "execution_count": 5,
   "metadata": {},
   "outputs": [],
   "source": [
    "\n",
    "\n",
    "# Load your system and topology\n",
    "# Replace 'your_pdb_file.pdb' and 'your_forcefield.xml' with your actual files\n",
    "pdb = openmm.app.PDBFile('input.pdb')\n",
    "forcefield = openmm.app.ForceField('amber14-all.xml', 'amber14/tip3pfb.xml')\n",
    "\n",
    "# Create the system\n",
    "system = forcefield.createSystem(pdb.topology, \n",
    "                                 nonbondedMethod=openmm.app.PME,\n",
    "                                 nonbondedCutoff=1.2*openmm.unit.nanometers, \n",
    "                                 constraints=openmm.app.HBonds, \n",
    "                                 ewaldErrorTolerance=0.0005)\n",
    "\n",
    "# Integrator and thermostat settings\n",
    "integrator = openmm.LangevinIntegrator(300*openmm.unit.kelvin,    # ref_t\n",
    "                                   1/openmm.unit.picosecond,  # tau_t\n",
    "                                   0.002*openmm.unit.picoseconds)  # dt\n",
    "\n",
    "# Barostat settings (pressure coupling)\n",
    "system.addForce(openmm.MonteCarloBarostat(1*openmm.unit.bar, 300*openmm.unit.kelvin, 25))  # ref_p, ref_t, frequency\n",
    "\n",
    "# Set periodic boundary conditions\n",
    "pdb.topology.setPeriodicBoxVectors(system.getDefaultPeriodicBoxVectors())\n",
    "\n",
    "# Create the simulation object\n",
    "simulation = openmm.app.Simulation(pdb.topology, system, integrator)\n",
    "\n",
    "# Set the initial positions\n",
    "simulation.context.setPositions(pdb.positions)\n",
    "\n",
    "# Minimize energy\n",
    "simulation.minimizeEnergy()\n",
    "\n",
    "# Set velocities to match the given temperature\n",
    "simulation.context.setVelocitiesToTemperature(300*openmm.unit.kelvin)\n",
    "\n",
    "# Set up reporters to output data\n",
    "simulation.reporters.append(openmm.app.DCDReporter('trajectory.dcd', 2500))  # nstxout-compressed\n",
    "simulation.reporters.append(openmm.app.StateDataReporter(stdout, 50,  # nstlog\n",
    "                                                  step=True, \n",
    "                                                  potentialEnergy=True, \n",
    "                                                  kineticEnergy=True, \n",
    "                                                  totalEnergy=True, \n",
    "                                                  temperature=True, \n",
    "                                                  volume=True))\n",
    "\n",
    "# Set up your OpenMM simulation here\n",
    "simulation.reporters.append(ExitFileReporter('EXIT', 1000, 'checkpoint.chk'))\n"
   ]
  },
  {
   "cell_type": "code",
   "execution_count": 7,
   "metadata": {},
   "outputs": [
    {
     "name": "stdout",
     "output_type": "stream",
     "text": [
      "#\"Step\",\"Potential Energy (kJ/mole)\",\"Kinetic Energy (kJ/mole)\",\"Total Energy (kJ/mole)\",\"Temperature (K)\",\"Box Volume (nm^3)\"\n",
      "50,-153436.12803506054,11396.10341467557,-142040.02462038497,152.10700210781079,88.66340517450686\n",
      "100,-152801.17848151422,12882.364860076457,-139918.81362143776,171.94455224071174,88.1238593460973\n",
      "150,-152249.60278567165,13956.742839333048,-138292.8599463386,186.2845777396836,87.68104833288933\n",
      "200,-151459.22609328473,14743.70281428448,-136715.52327900025,196.78835418089693,87.71156272526898\n",
      "250,-150507.0525417797,15239.41676282906,-135267.63577895064,203.4047878751579,87.88815944154462\n",
      "300,-149951.1570339672,16037.778679936659,-133913.37835403054,214.06074924980626,87.88815944154462\n",
      "350,-149240.7365187119,16656.360497905174,-132584.37602080673,222.31713500429348,87.90838306376074\n",
      "400,-148704.77795776544,17227.974120896484,-131476.80383686896,229.94662303133484,87.55021617054182\n",
      "450,-148176.34729370294,17737.26670897688,-130439.08058472606,236.74429465204665,87.55021617054182\n",
      "500,-147836.52991089044,18439.827522587206,-129396.70238830324,246.12157171493067,87.55021617054182\n",
      "550,-147397.99573120294,18679.637040094938,-128718.358691108,249.32237688997392,87.55021617054182\n",
      "600,-146729.67248901544,18727.04352589231,-128002.62896312313,249.95512460844571,87.55021617054182\n",
      "650,-146415.26135620294,19279.068125603022,-127136.19323059992,257.3231524243069,87.55021617054182\n",
      "700,-146127.01623901544,19504.89044007426,-126622.12579894118,260.3372664607796,87.55021617054182\n",
      "750,-145864.25647339044,19699.89539372525,-126164.36107966519,262.94005250235125,87.55021617054182\n",
      "800,-145351.19590732688,19924.03271875577,-125427.16318857111,265.93167651016364,87.69853660116448\n",
      "850,-144991.67149326438,20085.59978917241,-124906.07170409197,268.0881577060757,87.69853660116448\n",
      "900,-145167.54967926524,20483.627284364775,-124683.92239490047,273.40074279302974,87.9917687554574\n",
      "950,-144728.7160453975,20539.71284103347,-124189.00320436404,274.14933251497246,88.17093864309028\n",
      "1000,-144316.058818835,20690.421810815576,-123625.63700801943,276.1608875834174,88.17093864309028\n",
      "1050,-143987.1222953975,20853.990787464194,-123133.13150793331,278.3440887856655,88.17093864309028\n",
      "1100,-143733.07071405783,20882.59124480479,-122850.47946925304,278.7258271454094,88.3562600202762\n",
      "1150,-143425.01797968283,20762.620526254294,-122662.39745342854,277.1245441739039,88.3562600202762\n",
      "1200,-143562.6548175821,21030.59950879158,-122532.05530879053,280.7013351329221,88.23638551028115\n",
      "1250,-142984.3530597696,20731.51350692101,-122252.8395528486,276.7093500252441,88.23638551028115\n",
      "1300,-143085.5776691446,21006.175887409598,-122079.40178173501,280.3753461791675,88.23638551028115\n",
      "1350,-143064.1948566446,21148.13219816296,-121916.06265848165,282.2700770422775,88.23638551028115\n",
      "1400,-142650.6313800821,21278.069353124127,-121372.56202695798,284.0043848477076,88.23638551028115\n",
      "1450,-142522.39988657692,21449.022115534754,-121073.37777104217,286.28613951824207,88.49136536895773\n",
      "1500,-142436.42234751442,21711.608197532172,-120724.81414998225,289.7909499147876,88.49136536895773\n",
      "1550,-142124.65672251442,21330.852104034508,-120793.80461847992,284.7088910909242,88.49136536895773\n",
      "1600,-142404.54246470192,21489.30545863812,-120915.2370060638,286.82381264486907,88.49136536895773\n",
      "1650,-142353.01023813942,21571.67881285958,-120781.33142527984,287.92327300498266,88.49136536895773\n",
      "1700,-142081.62644907692,21616.177813906572,-120465.44863517035,288.51721370556754,88.49136536895773\n",
      "1750,-141676.9293825202,21276.333879474143,-120400.59550304606,283.9812209920869,88.74948684392578\n",
      "1800,-141742.8688356452,21519.2719548787,-120223.5968807665,287.22378391057026,88.74948684392578\n",
      "1850,-142161.9828394659,21756.020303327357,-120405.96253613854,290.38373079997166,88.26347601299737\n",
      "1900,-142371.5326441534,22111.904610320926,-120259.62803383247,295.1338188839651,88.26347601299737\n",
      "1950,-141889.3812769659,21692.336503488943,-120197.04477347696,289.5337251863177,88.26347601299737\n",
      "2000,-142115.0022803719,21634.452517207712,-120480.54976316419,288.7611313177899,88.13344701710201\n",
      "2050,-142042.2244492236,21630.547245263122,-120411.67720396048,288.7090065531846,88.15959676924402\n",
      "2100,-142354.8338242236,22174.67296201596,-120180.16086220765,295.97160575340376,88.15959676924402\n",
      "2150,-141748.4324570361,21748.985055784928,-119999.44740125118,290.28982936947153,88.15959676924402\n",
      "2200,-141772.6765976611,21818.86480743205,-119953.81179022905,291.22253409707116,88.15959676924402\n",
      "2250,-141512.24999606295,21943.692417333834,-119568.55757872912,292.88864336543674,88.80468239359813\n",
      "2300,-141690.50499906478,22199.197677105083,-119491.3073219597,296.29894403334174,88.73680594880332\n",
      "2350,-141725.95812406478,22223.38379424275,-119502.57432982203,296.62176295105183,88.73680594880332\n",
      "2400,-141208.36925687728,21753.966987484368,-119454.40226939291,290.3563246150773,88.73680594880332\n",
      "2450,-141466.18273343978,22129.125323143788,-119337.057410296,295.36366858840637,88.73680594880332\n",
      "2500,-141139.94684494537,21624.509702097625,-119515.43714284775,288.6284217640173,88.5325509148365\n",
      "2550,-141132.9687245767,21728.312667832884,-119404.65605674381,290.01390918488056,88.05772672948349\n",
      "2600,-141214.6276749068,21879.281862663745,-119335.34581224306,292.0289375503463,88.21342862674098\n",
      "2650,-141145.02176160295,22070.175681682653,-119074.8460799203,294.57685112003935,88.1806623333616\n",
      "2700,-141523.74142543977,22439.20471771134,-119084.53670772843,299.50238560481546,87.91297429482887\n",
      "2750,-141020.3114963873,21959.16905641998,-119061.14243996731,293.0952144264774,87.96993356171332\n",
      "2800,-141203.14341703872,22328.29010036285,-118874.85331667587,298.02197696679906,87.86493613374839\n",
      "2850,-140961.22900916665,22123.74210563861,-118837.48690352804,295.29181726812504,87.82757340915725\n",
      "2900,-140553.03760291665,21796.14303838613,-118756.89456453052,290.9192602457905,87.82757340915725\n",
      "2950,-140786.22681734426,22300.34587978467,-118485.88093755959,297.64899758395904,88.21890520415468\n",
      "3000,-140984.30494234426,22430.901566695655,-118553.4033756486,299.39156110953945,88.21890520415468\n",
      "3050,-140792.99347390904,22286.7654383895,-118506.22803551954,297.46773560758385,87.979542303553\n",
      "3100,-140722.65047069587,22309.040145723382,-118413.61032497248,297.7650424002743,87.98856663626681\n",
      "3150,-140541.72061573144,22198.267155285692,-118343.45346044574,296.28652409652705,88.1671224423458\n",
      "3200,-140498.38179723895,22204.3680085293,-118294.01378870965,296.36795390313887,88.47139488245017\n",
      "3250,-140347.25671268557,22324.093311525183,-118023.16340116039,297.9659612441131,88.11337954829139\n",
      "3300,-140239.5952528108,22349.533037865534,-117890.06221494527,298.3055124369436,88.06560156105449\n",
      "3350,-140168.3628309358,22299.039662636584,-117869.32316829922,297.6315631357738,88.06560156105449\n",
      "3400,-140288.71143058938,22300.958257539198,-117987.75317305018,297.6571711623314,87.90250188122955\n",
      "3450,-140239.31689933938,22078.654354406637,-118160.66254493274,294.69001835299355,87.90250188122955\n",
      "3500,-140254.56922550616,22525.233568927506,-117729.33565657865,300.6506369129265,88.2185090328117\n",
      "3550,-140235.36535785836,22616.155762435403,-117619.20959542296,301.86420103886644,87.95172884166736\n",
      "3600,-140405.58606098336,22832.935305867577,-117572.65075511578,304.7576186632893,87.95172884166736\n",
      "3650,-140136.71692035836,22291.156384675414,-117845.56053568295,297.5263428044181,87.95172884166736\n",
      "3700,-140382.74133442086,22504.091234747437,-117878.65009967342,300.36844422366477,87.95172884166736\n",
      "3750,-140826.08323623153,22752.216160296695,-118073.86707593483,303.6802374919602,88.02805620967696\n",
      "3800,-140484.52561904403,22474.649487675284,-118009.87613136874,299.9754769329156,88.02805620967696\n",
      "3850,-140352.46434335178,22500.006959862134,-117852.45738348964,300.31393025639176,88.2351778857825\n",
      "3900,-140107.9217258977,22517.670734244864,-117590.25099165284,300.5496936282655,88.25410638385824\n",
      "3950,-139925.1570774602,22191.041408945224,-117734.11566851498,296.1900800249135,88.25410638385824\n",
      "4000,-140369.81500314118,22747.333857112797,-117622.48114602838,303.6150720162128,87.85244081309837\n",
      "4050,-140255.40358586196,22461.247543013713,-117794.15604284825,299.7965974027193,87.90328398534189\n",
      "4100,-140400.90651554946,22489.03946823126,-117911.8670473182,300.1675440564853,87.90328398534189\n",
      "4150,-140279.36647648696,22201.062554200063,-118078.3039222869,296.3238350731906,87.90328398534189\n",
      "4200,-140575.31247886142,22549.271377010038,-118026.04110185138,300.97147630790494,88.1041183436621\n",
      "4250,-139850.01614251395,22092.366777758332,-117757.64936475562,294.8730419297166,88.35060982531398\n",
      "4300,-140428.73196282645,22889.19765539933,-117539.53430742712,305.5085680893709,88.35060982531398\n",
      "4350,-140287.12844720145,22510.653462280636,-117776.47498492082,300.4560321228706,88.35060982531398\n",
      "4400,-140268.78420433594,22645.785845311824,-117622.99835902412,302.25968210064184,88.23041593632153\n",
      "4450,-140098.48884714057,22453.76191983954,-117644.72692730103,299.69668468180924,87.65329870288063\n",
      "4500,-140154.6279932728,22651.58140074648,-117503.04659252631,302.33703701140723,87.54795173425708\n",
      "4550,-140474.04516681883,22754.44392968435,-117719.60123713448,303.7099721574519,87.66035401065442\n",
      "4600,-140550.24813457974,22774.50249456661,-117775.74564001313,303.9776994726407,87.75962384470512\n",
      "4650,-140114.0883364993,22528.109359814087,-117585.9789766852,300.68902090388633,87.56177783807503\n",
      "4700,-140260.50307358184,22565.344861054095,-117695.15821252775,301.1860136267064,87.77118548524952\n",
      "4750,-140436.54187006858,22493.47967905656,-117943.06219101202,300.2268088010026,88.20803611143378\n",
      "4800,-140291.28601069358,22410.73965716036,-117880.54635353322,299.12245442415843,88.20803611143378\n",
      "4850,-140218.6318188588,22258.712302528264,-117959.91951633053,297.0933025017838,88.38692725657654\n",
      "4900,-140086.2265454213,22049.909451734973,-118036.31709368632,294.3063520407313,88.38692725657654\n",
      "4950,-140379.64830654202,22346.98270220682,-118032.6656043352,298.271472388578,88.17540863306878\n",
      "5000,-140460.2265023006,22238.718205078505,-118221.50829722208,296.82643565157446,88.18805038932608\n",
      "5050,-140099.41177315247,22092.527316424297,-118006.88445672818,294.87518468450855,88.47318494097009\n",
      "5100,-140150.42172014172,22345.062178050168,-117805.35954209155,298.2458386117234,88.4792663934784\n",
      "5150,-140447.49398576672,22757.305537749664,-117690.18844801706,303.74816684630156,88.4792663934784\n",
      "5200,-140349.58966108295,22553.801397367613,-117795.78826371534,301.0319397655453,88.45648535299593\n",
      "5250,-140535.21173139545,22656.01558005158,-117879.19615134387,302.39622125152556,88.45648535299593\n",
      "5300,-140594.66206222022,22850.125713713,-117744.53634850722,304.987063878661,88.13110847858022\n",
      "5350,-140264.0894109736,22234.529524553567,-118029.55988642003,296.7705281528223,87.81065935692394\n",
      "5400,-140000.17613063107,22232.021525979042,-117768.15460465202,296.737053189444,88.25056815730352\n",
      "5450,-140383.49592693045,22417.741646941286,-117965.75427998917,299.21591195394836,87.87872263725554\n",
      "5500,-140367.9892032395,22367.550275199814,-118000.43892803969,298.5459935783883,87.5000144188084\n",
      "5550,-140265.5477969895,22065.748550148215,-118199.79924684128,294.5177609485011,87.5000144188084\n",
      "5600,-140454.070257927,22292.639315797947,-118161.43094212905,297.54613590379364,87.5000144188084\n",
      "5650,-140536.2879848556,22374.866633295198,-118161.42135156039,298.6436470706164,87.46384603861871\n",
      "5700,-140424.9178676681,22251.743382439716,-118173.17448522837,297.00028636249243,87.46384603861871\n",
      "5750,-140658.1962146067,22547.731801264454,-118110.46441334224,300.950927156791,87.1592987996941\n",
      "5800,-140433.8475817942,22443.894119464676,-117989.95346232952,299.5649763708364,87.1592987996941\n",
      "5850,-140409.090448228,22473.3161633634,-117935.7742848646,299.95768067778016,87.58358782068593\n",
      "5900,-140581.9371279155,22436.562463360606,-118145.3746645549,299.4671186917775,87.58358782068593\n",
      "5950,-140111.0937604495,22247.69969103881,-117863.39406941069,296.9463140744165,88.07204331622344\n",
      "6000,-139684.9629010745,21939.03472633235,-117745.92817474215,292.8264758517524,88.07204331622344\n",
      "6050,-139709.6035260745,22225.76632762351,-117483.83719845099,296.65356329515043,88.07204331622344\n",
      "6100,-140103.9869307711,22710.907098928932,-117393.07983184216,303.128873814754,87.78144448256435\n",
      "6150,-139949.81680998584,22597.659357427852,-117352.15745255799,301.61732431152404,87.86286855614532\n",
      "6200,-140074.83829436084,22622.246885528788,-117452.59140883206,301.94550097442266,87.86286855614532\n",
      "6250,-140109.13809904834,22416.266729124123,-117692.87136992422,299.1962258104166,87.86286855614532\n",
      "6300,-139895.8361247495,22034.259461371577,-117861.57666337793,294.097467211367,87.45563302084604\n",
      "6350,-140563.9728434995,22696.480291140964,-117867.49255235854,302.93631514774614,87.45563302084604\n",
      "6400,-140199.7420920066,22419.545686913654,-117780.19640509295,299.2399909835863,87.67150596014326\n",
      "6450,-140183.5975607566,22432.25549157639,-117751.34206918022,299.4096323262698,87.67150596014326\n",
      "6500,-140603.2733420066,22894.777218337636,-117708.49612366897,305.5830400874509,87.67150596014326\n",
      "6550,-140376.4247091941,22517.682681418955,-117858.74202777515,300.54985309056315,87.67150596014326\n",
      "6600,-140301.4354513816,22500.113791139564,-117801.32166024204,300.3153561635417,87.67150596014326\n",
      "6650,-140516.7655295066,22571.459191484028,-117945.30633802258,301.26762331712007,87.67150596014326\n",
      "6700,-140962.39267006138,22780.33295991225,-118182.05971014913,304.0555203358208,87.55586426385521\n",
      "6750,-140522.1608459145,22391.423036998138,-118130.73780891637,298.86463005412446,87.69466076039991\n",
      "6800,-140554.1061584145,22640.93236716464,-117913.17379124986,302.1949013607784,87.69466076039991\n",
      "6850,-140686.68167946977,22696.914657560526,-117989.76702190924,302.9421127586919,87.81826840309597\n",
      "6900,-140539.62894509477,22501.389053059742,-118038.23989203502,300.33237744358127,87.81826840309597\n",
      "6950,-140607.68662427063,22480.544282944873,-118127.14234132576,300.05415642570983,87.96772135297577\n",
      "7000,-140252.33886209637,22312.17362826038,-117940.16523383599,297.80686587427385,87.64670469430763\n",
      "7050,-140379.74413601367,22407.145661689516,-117972.59847432416,299.0744843543225,87.72132451350404\n",
      "7100,-140478.1035029969,22293.214204090647,-118184.88929890626,297.5538090997596,87.76133652524116\n",
      "7150,-140349.5380733094,22334.163379099045,-118015.37469421036,298.1003692723616,87.76133652524116\n",
      "7200,-140328.75268923625,22369.153625045437,-117959.59906419081,298.5673939403781,87.86979592408805\n",
      "7250,-140448.32593142375,22646.450398172718,-117801.87553325103,302.2685520748545,87.86979592408805\n",
      "7300,-140384.09364792216,22353.057086131652,-118031.0365617905,298.3525489017367,87.48540679690568\n",
      "7350,-140325.00575729716,22411.404143227264,-117913.60161406989,299.1313235068529,87.48540679690568\n",
      "7400,-140422.48365331872,22369.08761552116,-118053.39603779756,298.56651289266534,87.98803848214608\n",
      "7450,-140352.0584659386,22475.722149507143,-117876.33631643147,299.9897940525119,87.98183198165805\n",
      "7500,-140173.5203800011,22089.160125356517,-118084.36025464459,294.83024183692226,87.98183198165805\n",
      "7550,-140776.8778018761,22590.704818950617,-118186.17298292549,301.5245001276496,87.98183198165805\n",
      "7600,-140728.04526119318,22644.578046095092,-118083.46721509809,302.24356126430683,87.68439531594458\n",
      "7650,-140494.1124324011,22423.91297110147,-118070.19946129964,299.2982823557325,87.95100125376047\n",
      "7700,-140633.76294965815,22468.149746980518,-118165.61320267763,299.88872306314244,87.9688946330848\n",
      "7750,-140385.90486400737,22310.85399554076,-118075.05086846661,297.78925236467666,87.9695438668544\n",
      "7800,-141054.02577008045,22764.653409152757,-118289.3723609277,303.84624095552374,87.77691620184913\n",
      "7850,-140516.30116070545,22538.397890880384,-117977.90326982507,300.826344825901,87.77691620184913\n",
      "7900,-140561.2590789984,22415.97558680689,-118145.28349219152,299.19233985190516,87.52702433222383\n",
      "7950,-140827.8903621646,22605.441106299695,-118222.44925586489,301.7211895055278,87.66168202213895\n",
      "8000,-140523.88207115605,22404.960357811186,-118118.92171334487,299.0453164879447,87.86484384741553\n",
      "8050,-140279.91429771855,22553.73449154431,-117726.17980617424,301.03104675467694,87.86484384741553\n",
      "8100,-140815.08044157055,22840.76350032864,-117974.31694124191,304.86210377965426,87.71497040088246\n",
      "Simulation stopped\n"
     ]
    }
   ],
   "source": [
    "try:\n",
    "    simulation.step(1000000)\n",
    "except Exception as e:\n",
    "    print(e)\n",
    "    # Do any necessary cleanup or post-processing here\n"
   ]
  },
  {
   "cell_type": "markdown",
   "metadata": {},
   "source": [
    "## Modeller"
   ]
  },
  {
   "cell_type": "markdown",
   "metadata": {},
   "source": [
    "You can add water and a box via the Modeller class"
   ]
  },
  {
   "cell_type": "code",
   "execution_count": null,
   "metadata": {},
   "outputs": [],
   "source": [
    "import openmm as mm\n",
    "import openmm.app as app\n",
    "import openmm.unit as unit\n",
    "from sys import stdout\n",
    "\n",
    "# Load your system and topology\n",
    "# Replace 'your_pdb_file.pdb' and 'your_forcefield.xml' with your actual files\n",
    "pdb = app.PDBFile('input.pdb')\n",
    "forcefield = app.ForceField('amber14-all.xml', 'amber14/tip3pfb.xml')\n",
    "\n",
    "\n",
    "modeller = app.Modeller(pdb.topology, pdb.positions)\n",
    "modeller.deleteWater()\n",
    "residues=modeller.addHydrogens(forcefield)\n",
    "\n",
    "modeller.addSolvent(forcefield, padding=1.0*unit.nanometer)\n",
    "\n",
    "\n",
    "# Create the system\n",
    "system = forcefield.createSystem(modeller.topology, \n",
    "                                 nonbondedMethod=app.PME,\n",
    "                                 nonbondedCutoff=1.2*unit.nanometers, \n",
    "                                 constraints=app.HBonds, \n",
    "                                 ewaldErrorTolerance=0.0005)"
   ]
  },
  {
   "cell_type": "markdown",
   "metadata": {},
   "source": [
    "“Extra particles” are particles that do not represent ordinary atoms. This includes the virtual interaction sites used in many water models, Drude particles, etc. If you are using a force field that involves extra particles, you must add them to the Topology. To do this, call:\n",
    "\n",
    "`modeller.addExtraParticles(forcefield)`\n",
    "\n",
    "This looks at the force field to determine what extra particles are needed, then modifies each residue to include them. This function can remove extra particles as well as adding them.\n",
    "\n"
   ]
  },
  {
   "cell_type": "markdown",
   "metadata": {},
   "source": [
    "I believe that we want to have as many steps of setting up the simulation on the validator side as possible for now. A possible pipeline for this would be:"
   ]
  },
  {
   "cell_type": "code",
   "execution_count": null,
   "metadata": {},
   "outputs": [],
   "source": [
    "\n",
    "print('Loading...')\n",
    "pdb = app.PDBFile('input.pdb')\n",
    "forcefield = app.ForceField('amber99sb.xml', 'tip3p.xml')\n",
    "modeller = app.Modeller(pdb.topology, pdb.positions)\n",
    "print('Adding hydrogens...')\n",
    "modeller.addHydrogens(forcefield)\n",
    "print('Adding solvent...')\n",
    "modeller.addSolvent(forcefield, model='tip3p', padding=1*unit.nanometer)\n",
    "print('Minimizing...')\n",
    "system = forcefield.createSystem(modeller.topology, nonbondedMethod=app.PME)\n",
    "integrator = VerletIntegrator(0.001*unit.picoseconds)\n",
    "simulation = Simulation(modeller.topology, system, integrator)\n",
    "simulation.context.setPositions(modeller.positions)\n",
    "simulation.minimizeEnergy()\n",
    "print('Saving...')\n",
    "positions = simulation.context.getState(getPositions=True).getPositions()\n",
    "PDBFile.writeFile(simulation.topology, positions, open('output.pdb', 'w'))\n",
    "print('Done')"
   ]
  }
 ],
 "metadata": {
  "kernelspec": {
   "display_name": "base",
   "language": "python",
   "name": "python3"
  },
  "language_info": {
   "codemirror_mode": {
    "name": "ipython",
    "version": 3
   },
   "file_extension": ".py",
   "mimetype": "text/x-python",
   "name": "python",
   "nbconvert_exporter": "python",
   "pygments_lexer": "ipython3",
   "version": "3.12.2"
  }
 },
 "nbformat": 4,
 "nbformat_minor": 2
}

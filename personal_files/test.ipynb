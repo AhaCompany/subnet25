{
 "cells": [
  {
   "cell_type": "code",
   "execution_count": 2,
   "metadata": {},
   "outputs": [],
   "source": [
    "import json\n",
    "\n",
    "simulation_config = {\n",
    "    \"ff\": \"amber14-all\",\n",
    "    \"water\": \"TIP3P\",\n",
    "    \"box\": \"cubic\",\n",
    "    \"temperature\": 300.0,\n",
    "    \"time_step_size\": 0.002,\n",
    "    \"time_units\": \"picosecond\",\n",
    "    \"save_interval_checkpoint\": 5000,\n",
    "    \"save_interval_log\": 100,\n",
    "    \"box_padding\": 1.0,\n",
    "    \"friction\": 1.0,\n",
    "    \"nonbonded_method\": \"PME\",\n",
    "    \"cutoff\": 1.0,\n",
    "    \"constraints\": \"HBonds\",\n",
    "    \"pressure\": 1.0,\n",
    "    \"max_steps_nvt\": 50000\n",
    "}\n",
    "\n",
    "with open('simulation_config.json', 'w') as f:\n",
    "    json.dump(simulation_config, f, indent=4)"
   ]
  }
 ],
 "metadata": {
  "kernelspec": {
   "display_name": "Python 3",
   "language": "python",
   "name": "python3"
  },
  "language_info": {
   "codemirror_mode": {
    "name": "ipython",
    "version": 3
   },
   "file_extension": ".py",
   "mimetype": "text/x-python",
   "name": "python",
   "nbconvert_exporter": "python",
   "pygments_lexer": "ipython3",
   "version": "3.10.12"
  }
 },
 "nbformat": 4,
 "nbformat_minor": 2
}

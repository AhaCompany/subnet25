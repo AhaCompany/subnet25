{
 "cells": [
  {
   "cell_type": "markdown",
   "metadata": {},
   "source": [
    "# NVT"
   ]
  },
  {
   "cell_type": "markdown",
   "metadata": {},
   "source": [
    "## Limitations"
   ]
  },
  {
   "cell_type": "markdown",
   "metadata": {},
   "source": [
    "There is no support for `define = -DPOSRES` that is present in the .mdp files if we would want to add restrictions to specific atoms we would have to do it manually"
   ]
  },
  {
   "cell_type": "code",
   "execution_count": null,
   "metadata": {},
   "outputs": [],
   "source": [
    "import openmm as mm\n",
    "import openmm.app as app\n",
    "import openmm.unit as unit\n",
    "from sys import stdout\n",
    "\n",
    "# Load your system and topology\n",
    "# Replace 'your_pdb_file.pdb' and 'your_forcefield.xml' with your actual files\n",
    "pdb = app.PDBFile('input.pdb')\n",
    "forcefield = app.ForceField('amber14-all.xml', 'amber14/tip3pfb.xml')\n",
    "\n",
    "\n",
    "modeller = app.Modeller(pdb.topology, pdb.positions)\n",
    "modeller.deleteWater()\n",
    "residues=modeller.addHydrogens(forcefield)\n",
    "\n",
    "modeller.addSolvent(forcefield, padding=1.0*unit.nanometer)\n",
    "\n",
    "\n",
    "# Create the system\n",
    "system = forcefield.createSystem(modeller.topology, \n",
    "                                 nonbondedMethod=app.PME,\n",
    "                                 nonbondedCutoff=1.2*unit.nanometers, \n",
    "                                 constraints=app.HBonds, \n",
    "                                 ewaldErrorTolerance=0.0005)\n",
    "\n",
    "# Integrator settings\n",
    "integrator = mm.LangevinIntegrator(300*unit.kelvin,    # ref_t\n",
    "                                   1/unit.picosecond,  # tau_t\n",
    "                                   0.002*unit.picoseconds)  # dt\n",
    "\n",
    "# Periodic boundary conditions\n",
    "pdb.topology.setPeriodicBoxVectors(system.getDefaultPeriodicBoxVectors())\n",
    "\n",
    "# Create the simulation object\n",
    "simulation = app.Simulation(modeller.topology, system, integrator)\n",
    "\n",
    "# Set the initial positions\n",
    "simulation.context.setPositions(modeller.positions)\n",
    "\n",
    "# Minimize energy\n",
    "simulation.minimizeEnergy()\n",
    "\n",
    "# Set velocities to match the given temperature\n",
    "simulation.context.setVelocitiesToTemperature(300*unit.kelvin, -1)\n",
    "\n",
    "# Set up reporters to output data\n",
    "simulation.reporters.append(app.DCDReporter('trajectory.dcd', 2500))  # nstxout-compressed\n",
    "simulation.reporters.append(app.StateDataReporter(stdout, 50,  # nstlog\n",
    "                                                  step=True, \n",
    "                                                  potentialEnergy=True, \n",
    "                                                  kineticEnergy=True, \n",
    "                                                  totalEnergy=True, \n",
    "                                                  temperature=True, \n",
    "                                                  volume=True))\n",
    "simulation.reporters.append(app.StateDataReporter('energy.log', 500,  # nstenergy\n",
    "                                                  step=True, \n",
    "                                                  potentialEnergy=True, \n",
    "                                                  kineticEnergy=True, \n",
    "                                                  totalEnergy=True, \n",
    "                                                  temperature=True))\n",
    "simulation.reporters.append(app.CheckpointReporter(\"nvt.cpt\", 1000))\n",
    "\n",
    "\n",
    "# Run the simulation\n",
    "simulation.step(50000)  # nsteps\n",
    "\n",
    "# Save final state\n",
    "simulation.saveCheckpoint(\"nvt.cpt\")\n",
    "\n"
   ]
  },
  {
   "cell_type": "markdown",
   "metadata": {},
   "source": [
    "# NPT"
   ]
  },
  {
   "cell_type": "code",
   "execution_count": null,
   "metadata": {},
   "outputs": [],
   "source": [
    "\n",
    "\n",
    "system.addForce(MonteCarloBarostat(1*bar, 300*kelvin))\n",
    "simulation.context.reinitialize(preserveState=True)\n",
    "\n",
    "# Set up reporters to output data\n",
    "simulation.reporters.append(app.DCDReporter('trajectory.dcd', 2500))  # nstxout-compressed\n",
    "simulation.reporters.append(app.StateDataReporter(stdout, 50,  # nstlog\n",
    "                                                  step=True, \n",
    "                                                  potentialEnergy=True, \n",
    "                                                  kineticEnergy=True, \n",
    "                                                  totalEnergy=True, \n",
    "                                                  temperature=True, \n",
    "                                                  volume=True))\n",
    "simulation.reporters.append(app.StateDataReporter('energy.log', 500,  # nstenergy\n",
    "                                                  step=True, \n",
    "                                                  potentialEnergy=True, \n",
    "                                                  kineticEnergy=True, \n",
    "                                                  totalEnergy=True, \n",
    "                                                  temperature=True))\n",
    "simulation.reporters.append(app.CheckpointReporter(\"md.cpt\", 1000))\n",
    "\n",
    "\n",
    "# Run the simulation\n",
    "simulation.step(50000)  # nsteps\n",
    "simulation.saveCheckpoint(\"npt.cpt\")\n",
    "\n",
    "\n",
    "print(\"Simulation complete.\")"
   ]
  },
  {
   "cell_type": "markdown",
   "metadata": {},
   "source": [
    "# MD"
   ]
  },
  {
   "cell_type": "code",
   "execution_count": null,
   "metadata": {},
   "outputs": [],
   "source": [
    "\n",
    "\n",
    "\n",
    "\n",
    "# Set up reporters to output data\n",
    "simulation.reporters.append(app.DCDReporter('trajectory.dcd', 2500))  # nstxout-compressed\n",
    "simulation.reporters.append(app.StateDataReporter(stdout, 50,  # nstlog\n",
    "                                                  step=True, \n",
    "                                                  potentialEnergy=True, \n",
    "                                                  kineticEnergy=True, \n",
    "                                                  totalEnergy=True, \n",
    "                                                  temperature=True, \n",
    "                                                  volume=True))\n",
    "simulation.reporters.append(app.StateDataReporter('energy.log', 500,  # nstenergy\n",
    "                                                  step=True, \n",
    "                                                  potentialEnergy=True, \n",
    "                                                  kineticEnergy=True, \n",
    "                                                  totalEnergy=True, \n",
    "                                                  temperature=True))\n",
    "simulation.reporters.append(app.CheckpointReporter(\"md.cpt\", 1000))\n",
    "\n",
    "\n",
    "# Run the simulation\n",
    "simulation.step(500000)  # nsteps\n",
    "simulation.saveCheckpoint(\"md.cpt\")\n",
    "\n",
    "\n",
    "print(\"Simulation complete.\")"
   ]
  },
  {
   "cell_type": "code",
   "execution_count": null,
   "metadata": {},
   "outputs": [],
   "source": [
    "="
   ]
  }
 ],
 "metadata": {
  "kernelspec": {
   "display_name": "base",
   "language": "python",
   "name": "python3"
  },
  "language_info": {
   "codemirror_mode": {
    "name": "ipython",
    "version": 3
   },
   "file_extension": ".py",
   "mimetype": "text/x-python",
   "name": "python",
   "nbconvert_exporter": "python",
   "pygments_lexer": "ipython3",
   "version": "3.12.2"
  }
 },
 "nbformat": 4,
 "nbformat_minor": 2
}

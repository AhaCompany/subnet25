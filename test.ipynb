{
 "cells": [
  {
   "cell_type": "code",
   "execution_count": 37,
   "metadata": {},
   "outputs": [],
   "source": [
    "# %%\n",
    "import numpy as np\n",
    "import matplotlib.pyplot as plt\n",
    "import pandas as pd\n",
    "from tqdm import tqdm\n",
    "import pickle as pkl\n",
    "import sys\n",
    "import os\n",
    "import math\n",
    "from pprint import pprint\n",
    "from collections import defaultdict\n",
    "\n",
    "\n",
    "# %%"
   ]
  },
  {
   "cell_type": "code",
   "execution_count": 38,
   "metadata": {},
   "outputs": [
    {
     "data": {
      "text/plain": [
       "1060"
      ]
     },
     "execution_count": 38,
     "metadata": {},
     "output_type": "execute_result"
    }
   ],
   "source": [
    "with open(\"scripts/pdb_ids.pkl\", \"rb\") as f:\n",
    "    data = pkl.load(f)\n",
    "len(data)"
   ]
  },
  {
   "cell_type": "code",
   "execution_count": 39,
   "metadata": {},
   "outputs": [
    {
     "data": {
      "text/plain": [
       "1060"
      ]
     },
     "execution_count": 39,
     "metadata": {},
     "output_type": "execute_result"
    }
   ],
   "source": [
    "# data dictionary's values are lists\n",
    "# filter out the key value pairs where the list is empty\n",
    "data = {k: v for k, v in data.items() if v}\n",
    "len(data)"
   ]
  },
  {
   "cell_type": "code",
   "execution_count": 40,
   "metadata": {},
   "outputs": [],
   "source": [
    "# gathering all the keys and sorting them\n",
    "ks = list(data.keys())\n",
    "ks.sort()"
   ]
  },
  {
   "cell_type": "code",
   "execution_count": 41,
   "metadata": {},
   "outputs": [],
   "source": [
    "# Partitioning the keys into 10 parts\n",
    "# Each part will be used to download the pdb files\n",
    "\n",
    "n = 10\n",
    "partitioned_ks = np.array_split(ks, n)"
   ]
  },
  {
   "cell_type": "code",
   "execution_count": 42,
   "metadata": {},
   "outputs": [
    {
     "data": {
      "text/plain": [
       "array(['00', '01', '02', '03', '04', '05', '06', '07', '08', '09', '0g',\n",
       "       '0m', '10', '11', '12', '13', '14', '15', '16', '17', '18', '19',\n",
       "       '1a', '1b', '1g', '20', '21', '22', '23', '24', '25', '26', '27',\n",
       "       '28', '29', '2a', '2c', '2e', '2g', '30', '31', '32', '33', '34',\n",
       "       '35', '36', '37', '38', '39', '3c', '3g', '3p', '40', '41', '42',\n",
       "       '43', '44', '45', '46', '47', '48', '49', '4g', '50', '51', '52',\n",
       "       '53', '54', '55', '56', '57', '58', '59', '5c', '60', '61', '62',\n",
       "       '63', '64', '65', '66', '67', '68', '69', '6g', '6p', '6v', '70',\n",
       "       '71', '72', '73', '74', '75', '76', '77', '78', '79', '7g', '7r',\n",
       "       '80', '81', '82', '83', '84', '85', '86'], dtype='<U2')"
      ]
     },
     "execution_count": 42,
     "metadata": {},
     "output_type": "execute_result"
    }
   ],
   "source": [
    "partitioned_ks[0]"
   ]
  },
  {
   "cell_type": "code",
   "execution_count": 43,
   "metadata": {},
   "outputs": [],
   "source": [
    "# saving each partition to a file\n",
    "\n",
    "for i, ks in enumerate(partitioned_ks):\n",
    "    # create dictionary with the keys and values\n",
    "    part = {k: data[k] for k in ks}\n",
    "    with open(f\"scripts/pdb_ids_{i+1}.pkl\", \"wb\") as f:\n",
    "        pkl.dump(part, f)"
   ]
  },
  {
   "cell_type": "code",
   "execution_count": 44,
   "metadata": {},
   "outputs": [],
   "source": [
    "with open(\"scripts/pdb_ids_1.pkl\", \"rb\") as f:\n",
    "    part1 = pkl.load(f)"
   ]
  },
  {
   "cell_type": "code",
   "execution_count": null,
   "metadata": {},
   "outputs": [],
   "source": [
    "tot = [520, 22042, 27589, 25143, 23731, 23885, 25799, 21242]\n",
    "comp = [356, 3887, 5241, 4065, 4818, 5278, 3425, 3180]\n",
    "inc = [164, 18155, 22348, 21078, 18913, 18607, 22374, 18062]\n",
    "notd = [0, 0, 0, 0, 0, 0, 0, 0]"
   ]
  }
 ],
 "metadata": {
  "kernelspec": {
   "display_name": "pf",
   "language": "python",
   "name": "python3"
  },
  "language_info": {
   "codemirror_mode": {
    "name": "ipython",
    "version": 3
   },
   "file_extension": ".py",
   "mimetype": "text/x-python",
   "name": "python",
   "nbconvert_exporter": "python",
   "pygments_lexer": "ipython3",
   "version": "3.12.2"
  }
 },
 "nbformat": 4,
 "nbformat_minor": 2
}
